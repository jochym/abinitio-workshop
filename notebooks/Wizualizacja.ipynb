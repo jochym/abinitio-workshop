{
 "cells": [
  {
   "cell_type": "code",
   "execution_count": null,
   "metadata": {
    "slideshow": {
     "slide_type": "skip"
    }
   },
   "outputs": [],
   "source": [
    "%%HTML\n",
    "<link rel=\"stylesheet\" type=\"text/css\" href=\"custom.css\">"
   ]
  },
  {
   "cell_type": "code",
   "execution_count": null,
   "metadata": {
    "collapsed": true,
    "hide_input": false,
    "init_cell": true,
    "slideshow": {
     "slide_type": "skip"
    }
   },
   "outputs": [],
   "source": [
    "# Import potrzebnych modułów\n",
    "from ase.build import bulk\n",
    "from ase.build import graphene_nanoribbon\n",
    "from ase.build import nanotube\n",
    "from ase.build import surface\n",
    "from ase.spacegroup import crystal\n",
    "from ase import units\n",
    "import ase.io\n",
    "from IPython.core.display import Image\n",
    "from ipywidgets import interact, interactive, fixed\n",
    "from io import BytesIO\n",
    "import tempfile\n",
    "from __future__ import division, print_function\n",
    "import nglview "
   ]
  },
  {
   "cell_type": "markdown",
   "metadata": {
    "slideshow": {
     "slide_type": "slide"
    }
   },
   "source": [
    "# Warsztaty modelowania w nanofizyce\n",
    "----\n",
    "## Wizualizacja struktur atomowych i obliczenia z pierwszych zasad\n",
    "\n",
    "**Paweł T. Jochym**\n",
    "\n",
    "Zakład Komputerowych Badań Materiałów\n",
    "\n",
    "Instytut Fizyki Jądrowej PAN, Kraków"
   ]
  },
  {
   "cell_type": "markdown",
   "metadata": {
    "slideshow": {
     "slide_type": "subslide"
    }
   },
   "source": [
    "Wszelkiego rodzaju wizualizacje sa niezwykle ważnym elaementem pracy badawczej.\n",
    "* Pozwalają na efektywną kontrolę poprawności obliczeń\n",
    "* Ułatwiaja dostrzeżenie pojawiających się trendów/zjawisk\n",
    "* Pozwalają na wydobycie trudnych do zauważenia zależności w wynikach\n",
    "* Ułatwiają i czynią przystępnym przekaz zawarty w ostatecznej publikacji"
   ]
  },
  {
   "cell_type": "markdown",
   "metadata": {
    "slideshow": {
     "slide_type": "fragment"
    }
   },
   "source": [
    "Niestety także:\n",
    "* Są czaso- i praco-chłonne \n",
    "* Wymagają umiejętnego wykonania aby zachować estetykę, czytelność\n",
    "* Bywają mylące - niepostrzeżenie wzmacniając efekty o małej wadze "
   ]
  },
  {
   "cell_type": "markdown",
   "metadata": {
    "slideshow": {
     "slide_type": "notes"
    }
   },
   "source": [
    "Poniższe ćwiczenia prezentują proste techniki tworzenia struktur atomowych (klastrów, kryształów, powierzchni) oraz wizualizacji uzyskanych układów. Istnieją liczne narzędzia służące do tego celu. Wiele z nich pozwala tworzyć wyrafinowane i piękne wizualizacje. Tutaj przedstawione są jedynie techniki możliwe do zastosowania w środowisku Jupyter na obecnym etapie jego rozwoju. Dokumentacja środowiska [Jupyter](https://jupyter.org/), języka [Python](https://python.org/), jego powłoki [IPython](https://ipython.org) oraz podstawowych używanych tutaj bibliotek znajduje się w menu Help powyżej oraz na stronach internetowych projektów. Funkcje dotyczące obliczeniowej fizyki materiałowej zawarte są w bibliotece [ASE](https://wiki.fysik.dtu.dk/ase/) - jej obszerna dokumentacja znajduje się na stronie projektu."
   ]
  },
  {
   "cell_type": "markdown",
   "metadata": {
    "slideshow": {
     "slide_type": "slide"
    }
   },
   "source": [
    "### Tworzenie struktury\n",
    "\n",
    "Zdefiniowanie struktury wymaga podania jej składu atomowego oraz pozycji jej składników. W przypadku struktur krystalicznych powinniśmy także określić ich symeterię oraz rozmiar i rodzaj ich komórki elementarnej."
   ]
  },
  {
   "cell_type": "markdown",
   "metadata": {
    "slideshow": {
     "slide_type": "fragment"
    }
   },
   "source": [
    "#### Diament\n",
    "Diament posiada jedną z prostych struktur krystalicznych o wysokiej symetrii. System ASE udostępnia specjalizowane funkcje generujące tego rodzaju struktury. Dostępne są także procedury pozwalające na stworzenie dowolnej struktury krystalicznej o zadanej symetrii.\n",
    "\n",
    "Wyświetlanie utworzonych struktur umożliwia, między innymi, biblioteka [NGLview](http://arose.github.io/nglview/dev/index.html)"
   ]
  },
  {
   "cell_type": "code",
   "execution_count": null,
   "metadata": {
    "collapsed": true,
    "slideshow": {
     "slide_type": "subslide"
    }
   },
   "outputs": [],
   "source": [
    "diament=bulk(name='C', crystalstructure='diamond', a=4, cubic=True)"
   ]
  },
  {
   "cell_type": "code",
   "execution_count": null,
   "metadata": {
    "cell_style": "center",
    "slideshow": {
     "slide_type": "fragment"
    }
   },
   "outputs": [],
   "source": [
    "view = nglview.show_ase(diament)\n",
    "view.add_unitcell(); view.camera='orthographic'; view.add_spacefill(); view.center()\n",
    "view"
   ]
  },
  {
   "cell_type": "code",
   "execution_count": null,
   "metadata": {
    "collapsed": true
   },
   "outputs": [],
   "source": [
    "view.background = 'black'"
   ]
  },
  {
   "cell_type": "code",
   "execution_count": null,
   "metadata": {
    "cell_style": "center",
    "collapsed": true,
    "hide_input": false,
    "slideshow": {
     "slide_type": "fragment"
    }
   },
   "outputs": [],
   "source": [
    "view.update_spacefill(radiusType='covalent', scale=1.0)\n",
    "view.parameters=dict(clipDist=-100)"
   ]
  },
  {
   "cell_type": "code",
   "execution_count": null,
   "metadata": {
    "cell_style": "center",
    "collapsed": true,
    "slideshow": {
     "slide_type": "fragment"
    }
   },
   "outputs": [],
   "source": [
    "view.update_spacefill(radiusType='covalent', scale=1.0, assembly='SUPERCELL')"
   ]
  },
  {
   "cell_type": "code",
   "execution_count": null,
   "metadata": {
    "cell_style": "center",
    "collapsed": true,
    "slideshow": {
     "slide_type": "fragment"
    }
   },
   "outputs": [],
   "source": [
    "view.clear_representations()\n",
    "view.add_unitcell(); view.add_ball_and_stick()\n",
    "view.update_ball_and_stick(radiusType='covalent', scale=0.4, assembly='UNITCELL')"
   ]
  },
  {
   "cell_type": "markdown",
   "metadata": {
    "slideshow": {
     "slide_type": "slide"
    }
   },
   "source": [
    "### Zapis obrazu struktury na dysk i jego wyświetlenie "
   ]
  },
  {
   "cell_type": "code",
   "execution_count": null,
   "metadata": {
    "collapsed": true,
    "slideshow": {
     "slide_type": "fragment"
    }
   },
   "outputs": [],
   "source": [
    "ase.io.write('diament.png',       # Nazwa pliku\n",
    "             diament,             # obiekt zawierający definicję struktury\n",
    "             show_unit_cell=2,    # Rysowanie komórki elementarnej\n",
    "             rotation='115y,15x', # Obrót 115st wokół osi Y i 15st wokół osi X\n",
    "             scale=30)            # Skala"
   ]
  },
  {
   "cell_type": "code",
   "execution_count": null,
   "metadata": {
    "slideshow": {
     "slide_type": "fragment"
    }
   },
   "outputs": [],
   "source": [
    "Image(filename='diament.png')"
   ]
  },
  {
   "cell_type": "markdown",
   "metadata": {
    "slideshow": {
     "slide_type": "slide"
    }
   },
   "source": [
    "#### $\\beta$-SiC\n",
    "Nastęny przykład to kryształ $\\beta$-SiC (węglika krzemu) o strukturze blendy cynkowej."
   ]
  },
  {
   "cell_type": "code",
   "execution_count": null,
   "metadata": {
    "collapsed": true,
    "slideshow": {
     "slide_type": "fragment"
    }
   },
   "outputs": [],
   "source": [
    "a=4.3596                                         # Stała sieci w Angstromach\n",
    "SiC = crystal(['Si', 'C'],                       # Lista pierwiastków w krysztale\n",
    "                [(0, 0, 0), (0.25, 0.25, 0.25)], # Pozycje atomów (jako ułamki stałych sieci)\n",
    "                spacegroup=216,                  # Numer grupy symetrii (216 = Blenda Cynkowa = F-43m)\n",
    "                cellpar=[a, a, a, 90, 90, 90])   # Komórka elementarna (a, b, c, alpha, beta, gamma)"
   ]
  },
  {
   "cell_type": "markdown",
   "metadata": {
    "slideshow": {
     "slide_type": "slide"
    }
   },
   "source": [
    "### Wyświetlanie wyższej jakości\n",
    "\n",
    "Biblioteka ASE pozwala na użycie zewnętrznego programu w celu uzyskania bardziej\n",
    "widowiskowego obrazu struktury."
   ]
  },
  {
   "cell_type": "code",
   "execution_count": null,
   "metadata": {
    "slideshow": {
     "slide_type": "fragment"
    }
   },
   "outputs": [],
   "source": [
    "# Narysujmy większy fragment struktury\n",
    "# Tym razem wyświetlony z użyciem zewnętrznego programu povray\n",
    "bSiC=SiC.repeat(3)\n",
    "ase.io.write('bSiC.pov', bSiC, show_unit_cell=2, rotation='115y,15x', run_povray=True)\n",
    "Image(filename='bSiC.png')"
   ]
  },
  {
   "cell_type": "markdown",
   "metadata": {
    "slideshow": {
     "slide_type": "slide"
    }
   },
   "source": [
    "### Inne struktury\n",
    "\n",
    "Biblioteka ASE udostępnia także funkcje wspomagające konstrukcję bardziej złożonych struktur: nanotaśm, nanorurek, powierzchni i wielu innych. Można także łatwo tworzyć struktury przy pomocy własnych procedur.\n",
    "\n",
    "Aby sobie ułatwić życie zdefiniujemy własną funkcję wyświetlającą struktury:"
   ]
  },
  {
   "cell_type": "code",
   "execution_count": null,
   "metadata": {
    "collapsed": true,
    "slideshow": {
     "slide_type": "fragment"
    }
   },
   "outputs": [],
   "source": [
    "def show_cryst(struct, uc=True):\n",
    "    view = nglview.show_ase(struct)\n",
    "    view.parameters=dict(clipDist=-100)\n",
    "    if uc : view.add_unitcell()\n",
    "    view.camera='orthographic'\n",
    "    view.add_spacefill(radiusType='covalent', scale=0.5)\n",
    "    view.center()\n",
    "    return view  "
   ]
  },
  {
   "cell_type": "code",
   "execution_count": null,
   "metadata": {
    "slideshow": {
     "slide_type": "subslide"
    }
   },
   "outputs": [],
   "source": [
    "# Nanotaśma grafitowa\n",
    "gnr = graphene_nanoribbon(4, 12, type='zigzag', saturated=True)\n",
    "\n",
    "show_cryst(gnr, uc=False)"
   ]
  },
  {
   "cell_type": "code",
   "execution_count": null,
   "metadata": {
    "slideshow": {
     "slide_type": "subslide"
    }
   },
   "outputs": [],
   "source": [
    "# Nanorurka\n",
    "cnt = nanotube(6, 7, length=12, bond=1.4)\n",
    "show_cryst(cnt,uc=False)"
   ]
  },
  {
   "cell_type": "code",
   "execution_count": null,
   "metadata": {
    "slideshow": {
     "slide_type": "subslide"
    }
   },
   "outputs": [],
   "source": [
    "# Powierzchnia (1,0,0) molibdenu\n",
    "Mo = bulk('Mo', 'bcc', a=3.16, cubic=True)\n",
    "s = surface(Mo, (1, 0, 0),3, vacuum=10)\n",
    "show_cryst(s.repeat((5,5,1)))"
   ]
  },
  {
   "cell_type": "code",
   "execution_count": null,
   "metadata": {
    "collapsed": true
   },
   "outputs": [],
   "source": []
  }
 ],
 "metadata": {
  "anaconda-cloud": {},
  "hide_input": false,
  "kernelspec": {
   "display_name": "Python [default]",
   "language": "python",
   "name": "python3"
  },
  "language_info": {
   "codemirror_mode": {
    "name": "ipython",
    "version": 3
   },
   "file_extension": ".py",
   "mimetype": "text/x-python",
   "name": "python",
   "nbconvert_exporter": "python",
   "pygments_lexer": "ipython3",
   "version": "3.5.3"
  },
  "toc": {
   "toc_cell": false,
   "toc_number_sections": false,
   "toc_section_display": "none",
   "toc_threshold": 6,
   "toc_window_display": true
  },
  "varInspector": {
   "cols": {
    "lenName": 16,
    "lenType": 16,
    "lenVar": 40
   },
   "kernels_config": {
    "python": {
     "delete_cmd_postfix": "",
     "delete_cmd_prefix": "del ",
     "library": "var_list.py",
     "varRefreshCmd": "print(var_dic_list())"
    },
    "r": {
     "delete_cmd_postfix": ") ",
     "delete_cmd_prefix": "rm(",
     "library": "var_list.r",
     "varRefreshCmd": "cat(var_dic_list()) "
    }
   },
   "types_to_exclude": [
    "module",
    "function",
    "builtin_function_or_method",
    "instance",
    "_Feature"
   ],
   "window_display": false
  },
  "widgets": {
   "state": {},
   "version": "1.1.1"
  }
 },
 "nbformat": 4,
 "nbformat_minor": 1
}
