{
 "cells": [
  {
   "cell_type": "markdown",
   "metadata": {},
   "source": [
    "# Warsztaty modelowania w nanofizyce\n",
    "----\n",
    "## Ruchy atomów jako funkcja temperatury\n",
    "\n",
    "**Paweł T. Jochym**\n",
    "\n",
    "Zakład Komputerowych Badań Materiałów\n",
    "\n",
    "Instytut Fizyki Jądrowej PAN, Kraków"
   ]
  },
  {
   "cell_type": "markdown",
   "metadata": {
    "run_control": {
     "frozen": false,
     "read_only": false
    }
   },
   "source": [
    "----\n",
    "Jak uczy kinetyczna teoria materii temperatura jest jedynie przejawem chaotycznych \n",
    "ruchów atomów. Przekonajmy się jak ruchy te zależą od temperatury w której znajduje \n",
    "się układ, i czy ta zależność mówi nam coś o zjawiskach w nim zachodzących. Posłużymy się\n",
    "w tym celu wynikami obliczeń kwantowo-mechanicznych przeprowadzonych na nanocząstce Fe-Pt \n",
    "w różnych temperaturach z zakresu 150K-2000K.\n",
    "\n",
    "Musimy naturalnie zacząć od wczytania trajektorii z pliku danych."
   ]
  },
  {
   "cell_type": "code",
   "execution_count": 1,
   "metadata": {
    "collapsed": true,
    "run_control": {
     "frozen": false,
     "read_only": false
    }
   },
   "outputs": [],
   "source": [
    "%matplotlib inline\n",
    "from matplotlib import pyplot as plt\n",
    "import matplotlib as mpl\n",
    "from ase import Atoms\n",
    "from ase import units as un\n",
    "import ase.io\n",
    "from IPython.core.display import Image\n",
    "import numpy as np\n",
    "from numpy import array, sum, std, mean, sqrt\n",
    "from glob import glob\n",
    "from ase.io.trajectory import Trajectory"
   ]
  },
  {
   "cell_type": "code",
   "execution_count": 2,
   "metadata": {
    "collapsed": true
   },
   "outputs": [],
   "source": [
    "def recenter(a):\n",
    "    '''\n",
    "    Normalizacja położenia nanocząstki do stałej pozycji środka masy.\n",
    "    Przemieszczenie centrum masy do środka komórki.\n",
    "    Uwaga: do działania konieczna jest istotna próżnia wokoło struktury.\n",
    "    '''\n",
    "    # Kopia struktury a\n",
    "    c=Atoms(numbers=a.get_atomic_numbers(),\n",
    "            positions=a.get_positions(),\n",
    "            cell=a.get_cell(),\n",
    "            pbc=a.get_pbc())\n",
    "    \n",
    "    c.translate((c.get_cell()/2).sum(axis=0)-c.get_center_of_mass())\n",
    "    c.set_scaled_positions(c.get_scaled_positions())\n",
    "    c.translate((c.get_cell()/2).sum(axis=0)-c.get_center_of_mass())\n",
    "    c.set_scaled_positions(c.get_scaled_positions())\n",
    "    return c"
   ]
  },
  {
   "cell_type": "code",
   "execution_count": 3,
   "metadata": {},
   "outputs": [
    {
     "name": "stdout",
     "output_type": "stream",
     "text": [
      "Czytanie trajektorii .....................\n",
      "[150, 300, 500, 600, 700, 800, 850, 900, 950, 1000, 1100, 1200, 1300, 1350, 1400, 1425, 1450, 1500, 1600, 1700, 2000]\n"
     ]
    }
   ],
   "source": [
    "md={}\n",
    "print('Czytanie trajektorii', end=' ')\n",
    "\n",
    "for fn in glob('data/md_T_*.traj'):\n",
    "    # Użyj części nazwy pliku jako identyfikacji temperatury\n",
    "    T=int(fn.split('/')[-1][5:-5])\n",
    "    # Wczytaj trajektorię z pliku\n",
    "    print('.', end='')\n",
    "    md[T]=[recenter(a) for a in Trajectory(fn)]\n",
    "\n",
    "print()\n",
    "print(sorted(md.keys()))"
   ]
  },
  {
   "cell_type": "code",
   "execution_count": 6,
   "metadata": {
    "run_control": {
     "frozen": false,
     "read_only": false
    }
   },
   "outputs": [
    {
     "name": "stdout",
     "output_type": "stream",
     "text": [
      "T: 150 300 500 600 700 800 850 900 950 1000 1100 1200 1300 1350 1400 1425 1450 1500 1600 1700 2000 \n"
     ]
    }
   ],
   "source": [
    "# Miejsce na średnie wychylenie kwadratowe (MSD)\n",
    "msd=[]\n",
    "print('T: ', end='')\n",
    "for T in sorted(md.keys()):\n",
    "    print(T, end=' ')\n",
    "    # Lista atomów ma stały porządek w trajektorii\n",
    "    Fe=array(md[T][0].get_chemical_symbols())=='Fe'\n",
    "    Pt=array(md[T][0].get_chemical_symbols())=='Pt'\n",
    "    \n",
    "    # Trajektorie atomów Fe i Pt osobno\n",
    "    trjFe=array([a.get_positions()[Fe] for a in md[T]])\n",
    "    trjPt=array([a.get_positions()[Pt] for a in md[T]])\n",
    "    \n",
    "    # Normalizacja trajektorii względem średniego położenia atomu\n",
    "    trjFe=(trjFe-mean(trjFe,axis=0))\n",
    "    trjPt=(trjPt-mean(trjPt,axis=0))\n",
    "\n",
    "    # Średnie wychylenie kwadratowe atomu\n",
    "    msd.append([T,\n",
    "                   mean((sum(trjFe**2,axis=-1)).reshape(-1),axis=0),\n",
    "                   mean((sum(trjPt**2,axis=-1)).reshape(-1),axis=0)])\n",
    "\n",
    "# Przekształcenie w macierz dla wygody indeksowania\n",
    "msd=array(msd).T\n",
    "print()"
   ]
  },
  {
   "cell_type": "code",
   "execution_count": 7,
   "metadata": {
    "run_control": {
     "frozen": false,
     "read_only": false
    }
   },
   "outputs": [
    {
     "data": {
      "image/png": "[encoded data removed]",
      "text/plain": [
       "<matplotlib.figure.Figure at 0x7f81ea7b9438>"
      ]
     },
     "metadata": {},
     "output_type": "display_data"
    }
   ],
   "source": [
    "# Narysujmy wyniki\n",
    "plt.figure(figsize=(10,7))\n",
    "plt.plot(msd[0],msd[2],'o',label='Pt')\n",
    "plt.plot(msd[0],msd[1],'o',label='Fe')\n",
    "plt.xlabel('T (K)')\n",
    "plt.ylabel('MSD (A$^2$)')\n",
    "plt.xlim(100,2100)\n",
    "plt.legend(loc='best');"
   ]
  },
  {
   "cell_type": "code",
   "execution_count": null,
   "metadata": {
    "collapsed": true
   },
   "outputs": [],
   "source": []
  }
 ],
 "metadata": {
  "anaconda-cloud": {},
  "hide_input": false,
  "kernelspec": {
   "display_name": "Python [default]",
   "language": "python",
   "name": "python3"
  },
  "language_info": {
   "codemirror_mode": {
    "name": "ipython",
    "version": 3
   },
   "file_extension": ".py",
   "mimetype": "text/x-python",
   "name": "python",
   "nbconvert_exporter": "python",
   "pygments_lexer": "ipython3",
   "version": "3.5.3"
  },
  "toc": {
   "toc_cell": false,
   "toc_number_sections": false,
   "toc_threshold": 6,
   "toc_window_display": true
  },
  "varInspector": {
   "cols": {
    "lenName": 16,
    "lenType": 16,
    "lenVar": 40
   },
   "kernels_config": {
    "python": {
     "delete_cmd_postfix": "",
     "delete_cmd_prefix": "del ",
     "library": "var_list.py",
     "varRefreshCmd": "print(var_dic_list())"
    },
    "r": {
     "delete_cmd_postfix": ") ",
     "delete_cmd_prefix": "rm(",
     "library": "var_list.r",
     "varRefreshCmd": "cat(var_dic_list()) "
    }
   },
   "types_to_exclude": [
    "module",
    "function",
    "builtin_function_or_method",
    "instance",
    "_Feature"
   ],
   "window_display": false
  },
  "widgets": {
   "state": {},
   "version": "1.1.1"
  }
 },
 "nbformat": 4,
 "nbformat_minor": 1
}
