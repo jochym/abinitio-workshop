{
 "cells": [
  {
   "cell_type": "markdown",
   "metadata": {},
   "source": [
    "# Warsztaty modelowania w nanofizyce\n",
    "----\n",
    "## Ruchy atomów jako funkcja temperatury\n",
    "\n",
    "**Paweł T. Jochym**\n",
    "\n",
    "Zakład Komputerowych Badań Materiałów\n",
    "\n",
    "Instytut Fizyki Jądrowej PAN, Kraków"
   ]
  },
  {
   "cell_type": "markdown",
   "metadata": {
    "run_control": {
     "frozen": false,
     "read_only": false
    }
   },
   "source": [
    "----\n",
    "Jak uczy kinetyczna teoria materii temperatura jest jedynie przejawem chaotycznych \n",
    "ruchów atomów. Przekonajmy się jak ruchy te zależą od temperatury w której znajduje \n",
    "się układ, i czy ta zależność mówi nam coś o zjawiskach w nim zachodzących. Posłużymy się\n",
    "w tym celu wynikami obliczeń kwantowo-mechanicznych przeprowadzonych na nanocząstce Fe-Pt \n",
    "w różnych temperaturach z zakresu 150K-2000K.\n",
    "\n",
    "Musimy naturalnie zacząć od wczytania trajektorii z pliku danych."
   ]
  },
  {
   "cell_type": "code",
   "execution_count": 1,
   "metadata": {
    "collapsed": false,
    "run_control": {
     "frozen": false,
     "read_only": false
    }
   },
   "outputs": [],
   "source": [
    "%matplotlib inline\n",
    "from matplotlib import pyplot as plt\n",
    "import matplotlib as mpl\n",
    "import pickle\n",
    "from ase import Atoms\n",
    "from ase import units as un\n",
    "import ase.io\n",
    "from IPython.core.display import Image\n",
    "import numpy as np\n",
    "from numpy import array, sum, std, mean, sqrt\n",
    "import gzip"
   ]
  },
  {
   "cell_type": "code",
   "execution_count": 2,
   "metadata": {
    "collapsed": false,
    "run_control": {
     "frozen": false,
     "read_only": false
    }
   },
   "outputs": [
    {
     "name": "stdout",
     "output_type": "stream",
     "text": [
      "[150, 300, 500, 600, 700, 800, 850, 900, 950, 1000, 1100, 1200, 1300, 1350, 1400, 1425, 1450, 1500, 1600, 1700, 2000]\n"
     ]
    }
   ],
   "source": [
    "# Wczytanie danych wyliczonych przez program VASP przygotowanych wczesniej\n",
    "md={}\n",
    "for k,tr in pickle.load(gzip.open('data/md_PtFePt.p.gz','rb')).items():\n",
    "    T=int(k.split('/')[-1][1:])\n",
    "    md[T]=tr\n",
    "    \n",
    "print(sorted(md.keys()))"
   ]
  },
  {
   "cell_type": "code",
   "execution_count": 3,
   "metadata": {
    "collapsed": false,
    "run_control": {
     "frozen": false,
     "read_only": false
    }
   },
   "outputs": [],
   "source": [
    "# Miejsce na średnie wychylenie kwadratowe (MSD)\n",
    "msd=[]\n",
    "for T in sorted(md.keys()):\n",
    "    # Lista atomów ma stały porządek w trajektorii\n",
    "    Fe=array(md[T][1][0].get_chemical_symbols())=='Fe'\n",
    "    Pt=array(md[T][1][0].get_chemical_symbols())=='Pt'\n",
    "    \n",
    "    # Trajektorie atomów Fe i Pt osobno\n",
    "    trjFe=array([a.get_positions()[Fe] for a in md[T][1]])\n",
    "    trjPt=array([a.get_positions()[Pt] for a in md[T][1]])\n",
    "    \n",
    "    # Normalizacja trajektorii względem średniego położenia atomu\n",
    "    trjFe=(trjFe-mean(trjFe,axis=0))\n",
    "    trjPt=(trjPt-mean(trjPt,axis=0))\n",
    "    \n",
    "    # Średnie wychylenie kwadratowe atomu\n",
    "    msd.append([T,\n",
    "                   mean((sum(trjFe**2,axis=-1)).reshape(-1),axis=0),\n",
    "                   mean((sum(trjPt**2,axis=-1)).reshape(-1),axis=0)])\n",
    "\n",
    "# Przekształcenie w macierz dla wygody indeksowania\n",
    "msd=array(msd).T"
   ]
  },
  {
   "cell_type": "code",
   "execution_count": 4,
   "metadata": {
    "collapsed": false,
    "run_control": {
     "frozen": false,
     "read_only": false
    }
   },
   "outputs": [
    {
     "data": {
      "image/png": "[encoded data removed]",
      "text/plain": [
       "<matplotlib.figure.Figure at 0x7f4272a15278>"
      ]
     },
     "metadata": {},
     "output_type": "display_data"
    }
   ],
   "source": [
    "# Narysujmy wyniki\n",
    "plt.figure(figsize=(10,7))\n",
    "plt.plot(msd[0],msd[1],'ro',label='Fe')\n",
    "plt.plot(msd[0],msd[2],'bo',label='Pt')\n",
    "plt.xlabel('T (K)')\n",
    "plt.ylabel('MSD (A$^2$)')\n",
    "plt.xlim(100,2100)\n",
    "plt.legend(loc='best');"
   ]
  }
 ],
 "metadata": {
  "hide_input": false,
  "kernelspec": {
   "display_name": "Python 3",
   "language": "python",
   "name": "python3"
  },
  "language_info": {
   "codemirror_mode": {
    "name": "ipython",
    "version": 3
   },
   "file_extension": ".py",
   "mimetype": "text/x-python",
   "name": "python",
   "nbconvert_exporter": "python",
   "pygments_lexer": "ipython3",
   "version": "3.5.1"
  },
  "toc": {
   "toc_cell": false,
   "toc_number_sections": false,
   "toc_threshold": 6,
   "toc_window_display": true
  },
  "widgets": {
   "state": {},
   "version": "1.1.1"
  }
 },
 "nbformat": 4,
 "nbformat_minor": 0
}
