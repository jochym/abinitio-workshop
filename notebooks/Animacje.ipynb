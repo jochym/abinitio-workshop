{
 "cells": [
  {
   "cell_type": "markdown",
   "metadata": {
    "toc": "true"
   },
   "source": [
    "# Table of Contents\n",
    " <p><div class=\"lev1\"><a href=\"#Warsztaty-modelowania-w-nanofizyce\">Warsztaty modelowania w nanofizyce</a></div><div class=\"lev2\"><a href=\"#Produkcja-animacji-do-prezentacji\">Produkcja animacji do prezentacji</a></div>"
   ]
  },
  {
   "cell_type": "markdown",
   "metadata": {},
   "source": [
    "#  Warsztaty modelowania w nanofizyce\n",
    "\n",
    "## Produkcja animacji do prezentacji\n",
    "\n",
    "**Paweł T. Jochym**\n",
    "\n",
    "Zakład komputerowych badań materiałów\n",
    "\n",
    "Instytut Fizyki Jądrowej PAN, Kraków\n",
    "\n",
    "----\n",
    "\n",
    "Poniższy zeszyt słuzy do produkcji animacji wykorzystanych w prezentacji. Ponieważ proces kreślenia animacji jest raczej długotrwały warto go przeprowadzić w osobnym pliku, tak aby mieć pełną kontrolę nad jego przebiegiem, oraz nie powtarzać go za każdym razem gdy przeliczamy rachunki w prezentacji.\n"
   ]
  },
  {
   "cell_type": "code",
   "execution_count": 1,
   "metadata": {
    "collapsed": false,
    "init_cell": true,
    "run_control": {
     "frozen": false,
     "read_only": false
    },
    "slideshow": {
     "slide_type": "skip"
    }
   },
   "outputs": [],
   "source": [
    "# Import potrzebnych modułów\n",
    "%matplotlib inline\n",
    "from matplotlib import pyplot as plt\n",
    "from matplotlib import animation\n",
    "import matplotlib as mpl\n",
    "import pickle\n",
    "import sys\n",
    "from ase import Atoms\n",
    "from ase.cluster import Cluster, Icosahedron\n",
    "from ase import units as un\n",
    "import ase.io\n",
    "from IPython.core.display import Image\n",
    "from numpy import array, sum, std, mean\n",
    "import gzip"
   ]
  },
  {
   "cell_type": "code",
   "execution_count": 3,
   "metadata": {
    "collapsed": true,
    "run_control": {
     "frozen": false,
     "read_only": false
    }
   },
   "outputs": [],
   "source": [
    "# Funkcje pomocnicze\n",
    "\n",
    "def calc_velocities(a1,a2,dt):\n",
    "    '''\n",
    "    Wyliczenie prędkości atomów na podstawie pozycji a1, a2\n",
    "    oraz odstępu czasu dt\n",
    "    '''\n",
    "    dx=(a2.get_positions()-a1.get_positions())\n",
    "    c=Atoms(a2)\n",
    "    tv=sum(c.get_cell(),axis=0)/2\n",
    "    c.set_positions(dx)\n",
    "    c.translate(tv)\n",
    "    c.set_scaled_positions(c.get_scaled_positions())\n",
    "    c.translate(-tv)\n",
    "    return c.get_positions()/dt\n",
    "\n",
    "def calc_kinen(tr,dt):\n",
    "    '''\n",
    "    Wyliczenie energii kinetycznej atomów w trajektorii tr \n",
    "    przy kroku czasowym dt.\n",
    "    '''\n",
    "    m=tr[0].get_masses()\n",
    "    Ek=[m*sum(calc_velocities(a1,a2,dt)**2,axis=1)/2 for a1,a2 in zip(tr[:-1],tr[1:])]\n",
    "    return Ek\n",
    "    \n",
    "def calc_temp(tr,dt):\n",
    "    '''\n",
    "    Wyliczenie chwilowej temperatury w trajektorii tr\n",
    "    przy kroku czasowym dt\n",
    "    '''\n",
    "    eka=calc_kinen(tr,dt)\n",
    "    ek=sum(eka,axis=-1)\n",
    "    ekd=std(eka,axis=-1)\n",
    "    n=len(tr[0].get_masses())\n",
    "    c=n/(n-1)\n",
    "    return 2*c*ek/(3*n*un.kB), 2*c*ekd/(3*un.kB)\n",
    "\n",
    "def recenter(a):\n",
    "    '''\n",
    "    Normalizacja położenia nanocząstki do stałej pozycji środka masy\n",
    "    '''\n",
    "    c=Atoms(numbers=a.get_atomic_numbers(),\n",
    "            positions=a.get_positions(),\n",
    "            cell=a.get_cell(),\n",
    "            pbc=a.get_pbc())\n",
    "    c.translate((c.get_cell()/2).sum(axis=0)-c.get_center_of_mass())\n",
    "    c.set_scaled_positions(c.get_scaled_positions())\n",
    "    c.translate((c.get_cell()/2).sum(axis=0)-c.get_center_of_mass())\n",
    "    c.set_scaled_positions(c.get_scaled_positions())\n",
    "    return c\n"
   ]
  },
  {
   "cell_type": "code",
   "execution_count": 30,
   "metadata": {
    "collapsed": false,
    "run_control": {
     "frozen": false,
     "read_only": false
    }
   },
   "outputs": [
    {
     "name": "stdout",
     "output_type": "stream",
     "text": [
      "[150, 300, 500, 600, 700, 800, 850, 900, 950, 1000, 1100, 1200, 1300, 1350, 1400, 1425, 1450, 1500, 1600, 1700, 2000]\n"
     ]
    }
   ],
   "source": [
    "# Wczytanie danych wyliczonych przez program VASP przygotowanych wczesniej\n",
    "md={}\n",
    "for k,tr in pickle.load(gzip.open('data/md_PtFePt.p.gz','rb')).items():\n",
    "    T=int(k.split('/')[-1][1:])\n",
    "    md[T]=tr\n",
    "\n",
    "# Lista temperatur dla których mamy wyliczoną trajektorię dynamiki molekularnej\n",
    "print(sorted(md))"
   ]
  },
  {
   "cell_type": "code",
   "execution_count": 6,
   "metadata": {
    "collapsed": true,
    "run_control": {
     "frozen": false,
     "read_only": false
    }
   },
   "outputs": [],
   "source": [
    "# Wstępne wyliczenie danych aby przyspieszyć generowanie kadrów\n",
    "dat=[]\n",
    "for T in sorted(md):\n",
    "    dt,tr=md[T]\n",
    "    epot=array([s.get_potential_energy() for s in tr])\n",
    "    epot=((epot[:-1]+epot[1:])/2)\n",
    "    ekin=sum(array(calc_kinen(tr,dt*un.fs)),axis=-1)\n",
    "    etot=epot+sum(ekin,axis=-1)\n",
    "    temp_v, temp_d=calc_temp(tr,dt*un.fs)\n",
    "    atemp=mean(temp_v)\n",
    "    dat.append([atemp,mean(epot-ekin),\n",
    "                mean((etot-mean(etot))**2)/(un.kB*(atemp**2))])\n",
    "dat=array(dat)"
   ]
  },
  {
   "cell_type": "code",
   "execution_count": 12,
   "metadata": {
    "collapsed": false,
    "run_control": {
     "frozen": false,
     "read_only": false
    }
   },
   "outputs": [
    {
     "name": "stdout",
     "output_type": "stream",
     "text": [
      " 2499:[1700,2000], T=2000K ofs=1850 frm= 649"
     ]
    }
   ],
   "source": [
    "# Generowanie kadrów animacji\n",
    "\n",
    "mpl.rc('xtick', labelsize=16) \n",
    "mpl.rc('ytick', labelsize=16) \n",
    "\n",
    "imgdir='img/'\n",
    "\n",
    "def paint_frame(idx):\n",
    "    fig,ax=plt.subplots(figsize=(9.6,7.2))\n",
    "    iax=plt.axes([0.12,0.3,0.5,0.5])\n",
    "    iax.axis('off')\n",
    "\n",
    "    ax.set_xlim(0,2100)\n",
    "    ax.set_xlabel('$T \\; (K)$', fontsize=18)\n",
    "    ax.set_ylabel('$E_P - E_K \\; (eV)$', fontsize=18)\n",
    "    ax.set_ylim(-325,-310)\n",
    "    ax.set_title('Topnienie Pt-12Fe-42Pt',fontsize=18)\n",
    "\n",
    "    edots,=ax.plot([],[],'go',ms=10)\n",
    "    \n",
    "    vl=ax.axvline(0,ymax=0.05,ls=':')\n",
    "    lbl=ax.text(0.8,0.95,'T=',fontsize=12,transform=ax.transAxes)\n",
    "\n",
    "    i=idx\n",
    "    Tidx=abs(array(sorted(md))-i).argmin()\n",
    "    T=sorted(md)[Tidx]\n",
    "    if Tidx :\n",
    "        Tp=sorted(md)[Tidx-1]\n",
    "    else :\n",
    "        Tp=-T\n",
    "    trj=md[T]\n",
    "    ofs=int((T+Tp)/2)\n",
    "    edots.set_data(dat[:Tidx+1,0],dat[:Tidx+1,1])\n",
    "    vl.set_xdata([i])\n",
    "    \n",
    "    lbl.set_text('T=%4dK (%4d)' % (T,idx))\n",
    "    a=recenter(trj[1][i-ofs+200])\n",
    "    print('\\r %4d:[%4d,%4d], T=%4dK ofs=%4d frm=%4d' % (idx,Tp,T,T,ofs,i-ofs),end='')\n",
    "    sys.stdout.flush()\n",
    "    ase.io.write(imgdir+'md.pov', a, canvas_height=720,\n",
    "            show_unit_cell=0, rotation='%.1fy,15x' % (i/4,),\n",
    "            background='White', run_povray=True )\n",
    "    iax.imshow(plt.imread(imgdir+'md.png'),\n",
    "               aspect='equal',interpolation='bicubic', animated=True);\n",
    "    return fig\n",
    "\n",
    "for i in range(700,2500):\n",
    "    fig=paint_frame(i)\n",
    "    fig.savefig(imgdir+'anim_e_%04d.png' % i,dpi=100)\n",
    "    plt.close(fig)"
   ]
  },
  {
   "cell_type": "code",
   "execution_count": null,
   "metadata": {
    "collapsed": true,
    "run_control": {
     "frozen": false,
     "read_only": false
    }
   },
   "outputs": [],
   "source": [
    "# Produkcja kadrów animacji nanocząstek o różnej temperaturze\n",
    "\n",
    "for T in [150, 500, 1000, 1450, 2000]:\n",
    "    for i,a in enumerate(md[T][1]):\n",
    "        c=recenter(a)\n",
    "        print('\\r%4dK: %4d' % (T, i,),end='')\n",
    "        sys.stdout.flush()\n",
    "        ase.io.write('img/T%04d/md_T%04d_%04d.pov' % (T,T,i), c, canvas_height=720,\n",
    "                show_unit_cell=0, rotation='%.1fy,15x' % (i/4,),\n",
    "                background='White', run_povray=True )\n",
    "    "
   ]
  },
  {
   "cell_type": "markdown",
   "metadata": {},
   "source": [
    "Przekształcenie kadrów w film w formacie webm przy użyciu krótkiego skryptu\n",
    "powłoki. Operacje plikowe wygodniej jest prowadzić w języku powłoki systemu\n",
    "operacyjnego. Dzięki \"magicznemu\" poleceniu `%%bash` cała komórka interpretowana \n",
    "jest jako skrypt powłoki."
   ]
  },
  {
   "cell_type": "code",
   "execution_count": 20,
   "metadata": {
    "collapsed": false,
    "run_control": {
     "frozen": false,
     "read_only": false
    }
   },
   "outputs": [],
   "source": [
    "%%bash\n",
    "\n",
    "# Produkcja filmu w formacie webm\n",
    "\n",
    "ffmpeg -framerate 20 -i img/anim_e_%04d.png -s:v 960:720 -vf scale=-1:720 \\\n",
    "            -v 0 -vcodec libvpx -quality 'good' -y anim_e.webm"
   ]
  },
  {
   "cell_type": "code",
   "execution_count": 23,
   "metadata": {
    "collapsed": false,
    "run_control": {
     "frozen": false,
     "read_only": false
    }
   },
   "outputs": [
    {
     "name": "stdout",
     "output_type": "stream",
     "text": [
      "T0150\n",
      "T0500\n",
      "T1000\n",
      "T1450\n",
      "T2000\n"
     ]
    }
   ],
   "source": [
    "%%bash\n",
    "\n",
    "( cd img\n",
    "    for t in T* ; do \n",
    "    (cd $t\n",
    "        echo $t\n",
    "        # Przeskalowanie kadrów do wspólnego rozmiaru\n",
    "        for f in md_T*_*.png ; do \n",
    "            convert $f -resize 960x720 -gravity center -background \"white\" \\\n",
    "                -extent 960x720 amd.png \n",
    "            mv amd.png $f \n",
    "        done\n",
    "        ffmpeg -framerate 20 -i md_${t}_%04d.png -s 960:720 -vf scale=-1:720 \\\n",
    "            -v 0 -y -vcodec libvpx -quality 'good' ../../anim_${t}.webm\n",
    "    )\n",
    "    done\n",
    ")"
   ]
  },
  {
   "cell_type": "code",
   "execution_count": null,
   "metadata": {
    "collapsed": true,
    "run_control": {
     "frozen": false,
     "read_only": false
    }
   },
   "outputs": [],
   "source": []
  }
 ],
 "metadata": {
  "hide_input": false,
  "kernelspec": {
   "display_name": "Python 3",
   "language": "python",
   "name": "python3"
  },
  "language_info": {
   "codemirror_mode": {
    "name": "ipython",
    "version": 3
   },
   "file_extension": ".py",
   "mimetype": "text/x-python",
   "name": "python",
   "nbconvert_exporter": "python",
   "pygments_lexer": "ipython3",
   "version": "3.5.1"
  },
  "toc": {
   "toc_cell": true,
   "toc_number_sections": false,
   "toc_threshold": 6,
   "toc_window_display": true
  },
  "widgets": {
   "state": {},
   "version": "1.1.1"
  }
 },
 "nbformat": 4,
 "nbformat_minor": 0
}
