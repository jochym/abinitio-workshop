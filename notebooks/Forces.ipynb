{
 "cells": [
  {
   "cell_type": "code",
   "execution_count": 3,
   "metadata": {},
   "outputs": [
    {
     "data": {
      "application/vnd.jupyter.widget-view+json": {
       "model_id": "9456a536d312451ca088b3a413af1f41"
      }
     },
     "metadata": {},
     "output_type": "display_data"
    }
   ],
   "source": [
    "from vpython import *\n",
    "import ase.io\n",
    "from ipywidgets import IntSlider, interact\n",
    "\n",
    "scene.caption= \"\"\"Right button drag or Ctrl-drag to rotate \"camera\" to view scene.\n",
    "To zoom, drag with middle button or Alt/Option depressed, or use scroll wheel.\n",
    "  On a two-button mouse, middle is left + right.\n",
    "Touch screen: pinch/extend to zoom, swipe or two-finger rotate.\"\"\"\n",
    "\n",
    "class crystal:\n",
    "    def __init__( self, trj ):\n",
    "        self.trj=trj\n",
    "        self.atoms=[sphere(pos=vec(*tuple(r)), radius=0.8) for r in trj[0].get_positions()]\n",
    "        self.forces=[arrow(pos=vec(*tuple(r)), axis=vec(*tuple(f))) \n",
    "                     for r, f in zip(trj[0].get_positions(), trj[0].get_forces())]\n",
    "    \n",
    "    def update_frame( self, n=0 ):\n",
    "        for a, fv, r, f in zip(self.atoms, self.forces, self.trj[n].get_positions(), self.trj[n].get_forces()):\n",
    "            a.pos=vec(*tuple(r))\n",
    "            fv.pos=vec(*tuple(r))\n",
    "            fv.axis=vec(*tuple(f))\n",
    "            \n",
    "trj=ase.io.Trajectory('data/md_T_1700.traj')\n",
    "c=crystal(trj)\n",
    "interact(c.update_frame, n=IntSlider(min=0,max=len(trj),step=1,value=0));"
   ]
  },
  {
   "cell_type": "code",
   "execution_count": null,
   "metadata": {
    "collapsed": true
   },
   "outputs": [],
   "source": []
  }
 ],
 "metadata": {
  "anaconda-cloud": {},
  "hide_input": false,
  "kernelspec": {
   "display_name": "VPython",
   "language": "python",
   "name": "vpython"
  },
  "language_info": {
   "codemirror_mode": {
    "name": "ipython",
    "version": 3
   },
   "file_extension": ".py",
   "mimetype": "text/x-python",
   "name": "python",
   "nbconvert_exporter": "python",
   "pygments_lexer": "ipython3",
   "version": "3.5.3"
  },
  "varInspector": {
   "cols": {
    "lenName": 16,
    "lenType": 16,
    "lenVar": 40
   },
   "kernels_config": {
    "python": {
     "delete_cmd_postfix": "",
     "delete_cmd_prefix": "del ",
     "library": "var_list.py",
     "varRefreshCmd": "print(var_dic_list())"
    },
    "r": {
     "delete_cmd_postfix": ") ",
     "delete_cmd_prefix": "rm(",
     "library": "var_list.r",
     "varRefreshCmd": "cat(var_dic_list()) "
    }
   },
   "types_to_exclude": [
    "module",
    "function",
    "builtin_function_or_method",
    "instance",
    "_Feature"
   ],
   "window_display": false
  }
 },
 "nbformat": 4,
 "nbformat_minor": 2
}
