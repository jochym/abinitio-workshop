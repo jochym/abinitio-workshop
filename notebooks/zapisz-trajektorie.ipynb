{
 "cells": [
  {
   "cell_type": "markdown",
   "metadata": {},
   "source": [
    "# Warsztaty modelowania w nanofizyce\n",
    "----\n",
    "## Przetworzenie historii dynamiki molekularnej na trajektorie\n",
    "\n",
    "**Paweł T. Jochym**\n",
    "\n",
    "Zakład Komputerowych Badań Materiałów\n",
    "\n",
    "Instytut Fizyki Jądrowej PAN, Kraków"
   ]
  },
  {
   "cell_type": "markdown",
   "metadata": {},
   "source": [
    "----\n",
    "Wiele funkcji biblioteki ASE oczekuje danych w postaci trajektorii. Poniższy krótki kod przekształca surowe dane otrzymane z symulacji w zestaw trajektorii przydatnych np. przy wizualizacji."
   ]
  },
  {
   "cell_type": "code",
   "execution_count": 1,
   "metadata": {
    "collapsed": true,
    "init_cell": true,
    "run_control": {
     "frozen": false,
     "read_only": false
    }
   },
   "outputs": [],
   "source": [
    "import ase.io\n",
    "import pickle\n",
    "import gzip\n",
    "import nglview "
   ]
  },
  {
   "cell_type": "code",
   "execution_count": 2,
   "metadata": {
    "run_control": {
     "frozen": false,
     "marked": false,
     "read_only": false
    }
   },
   "outputs": [
    {
     "name": "stdout",
     "output_type": "stream",
     "text": [
      "[150, 300, 500, 600, 700, 800, 850, 900, 950, 1000, 1100, 1200, 1300, 1350, 1400, 1425, 1450, 1500, 1600, 1700, 2000]\n"
     ]
    }
   ],
   "source": [
    "# Wczytanie danych wyliczonych przez program VASP przygotowanych wczesniej\n",
    "md={}\n",
    "for k,tr in pickle.load(gzip.open('data/md_PtFePt.p.gz','rb')).items():\n",
    "    T=int(k.split('/')[-1][1:])\n",
    "    md[T]=tr\n",
    "    \n",
    "print(sorted(md.keys()))"
   ]
  },
  {
   "cell_type": "code",
   "execution_count": 3,
   "metadata": {
    "collapsed": true
   },
   "outputs": [],
   "source": [
    "for T in md:\n",
    "    ase.io.write('data/md_T_%d.traj' % (T,), md[T][1])"
   ]
  },
  {
   "cell_type": "code",
   "execution_count": null,
   "metadata": {
    "collapsed": true
   },
   "outputs": [],
   "source": []
  }
 ],
 "metadata": {
  "anaconda-cloud": {},
  "hide_input": false,
  "kernelspec": {
   "display_name": "Python [default]",
   "language": "python",
   "name": "python3"
  },
  "language_info": {
   "codemirror_mode": {
    "name": "ipython",
    "version": 3
   },
   "file_extension": ".py",
   "mimetype": "text/x-python",
   "name": "python",
   "nbconvert_exporter": "python",
   "pygments_lexer": "ipython3",
   "version": "3.5.3"
  },
  "toc": {
   "toc_cell": true,
   "toc_number_sections": false,
   "toc_threshold": 6,
   "toc_window_display": true
  },
  "toc_position": {
   "height": "148px",
   "left": "1541px",
   "right": "27px",
   "top": "125px",
   "width": "352px"
  },
  "varInspector": {
   "cols": {
    "lenName": 16,
    "lenType": 16,
    "lenVar": 40
   },
   "kernels_config": {
    "python": {
     "delete_cmd_postfix": "",
     "delete_cmd_prefix": "del ",
     "library": "var_list.py",
     "varRefreshCmd": "print(var_dic_list())"
    },
    "r": {
     "delete_cmd_postfix": ") ",
     "delete_cmd_prefix": "rm(",
     "library": "var_list.r",
     "varRefreshCmd": "cat(var_dic_list()) "
    }
   },
   "types_to_exclude": [
    "module",
    "function",
    "builtin_function_or_method",
    "instance",
    "_Feature"
   ],
   "window_display": false
  },
  "widgets": {
   "state": {
    "02134e32b1a94802b3590f11424a0dd6": {
     "views": []
    },
    "65e8634afbad454cb7b4bd3df581a2d7": {
     "views": []
    },
    "7f8214e629e74b8fadf43f19cb28ac14": {
     "views": []
    },
    "bbd8d093002543fa8040764834f2d6bd": {
     "views": []
    },
    "c6201d0873454bdbad87e159c4d6648c": {
     "views": []
    },
    "e58e74ee097c4960a2daec7500477f3b": {
     "views": []
    },
    "f9242e8bf1ab4bbd97c343fbc346ba2f": {
     "views": []
    },
    "fcf722773fcb4c41a993093af94566a5": {
     "views": [
      {
       "cell_index": 6
      }
     ]
    }
   },
   "version": "1.1.1"
  }
 },
 "nbformat": 4,
 "nbformat_minor": 1
}
