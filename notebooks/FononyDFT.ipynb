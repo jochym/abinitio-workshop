{
 "cells": [
  {
   "cell_type": "code",
   "execution_count": 1,
   "metadata": {
    "hide_input": false,
    "scrolled": true,
    "slideshow": {
     "slide_type": "skip"
    }
   },
   "outputs": [
    {
     "data": {
      "text/html": [
       "<link rel=\"stylesheet\" type=\"text/css\" href=\"custom.css\">\n",
       "<style>\n",
       " .rise-enabled {background-color: #ffc;}\n",
       " .rise-enabled .text_cell {font-size: 120%;}\n",
       "</style>\n",
       "<script>\n",
       " MathJax.Hub.Config({displayAlign: 'left'});\n",
       "</script>"
      ],
      "text/plain": [
       "<IPython.core.display.HTML object>"
      ]
     },
     "metadata": {},
     "output_type": "display_data"
    }
   ],
   "source": [
    "%%HTML\n",
    "<link rel=\"stylesheet\" type=\"text/css\" href=\"custom.css\">\n",
    "<style>\n",
    " .rise-enabled {background-color: #ffc;}\n",
    " .rise-enabled .text_cell {font-size: 120%;}\n",
    "</style>\n",
    "<script>\n",
    " MathJax.Hub.Config({displayAlign: 'left'});\n",
    "</script>"
   ]
  },
  {
   "cell_type": "code",
   "execution_count": 2,
   "metadata": {
    "collapsed": true,
    "slideshow": {
     "slide_type": "skip"
    }
   },
   "outputs": [],
   "source": [
    "# inicjalizacja\n",
    "import ase\n",
    "import ase.io\n",
    "import numpy\n",
    "from ase.visualize import view\n",
    "from ase.build import bulk"
   ]
  },
  {
   "cell_type": "markdown",
   "metadata": {
    "hide_input": false,
    "livereveal": {
     "transition": "none"
    },
    "slideshow": {
     "slide_type": "skip"
    }
   },
   "source": [
    "#### Warsztaty modelowania w nanofizyce\n",
    "----\n",
    "## Drgania struktury krystalicznej - fonony\n",
    "\n",
    "**Jan Łażewski**\n",
    "\n",
    "Zakład Komputerowych Badań Materiałów,\n",
    "Instytut Fizyki Jądrowej PAN, Kraków\n",
    "\n",
    "<br />\n",
    "<img src=\"FIGs/tyt.png\" style=\"height:180px; margin-top:100px\" />"
   ]
  },
  {
   "cell_type": "markdown",
   "metadata": {
    "slideshow": {
     "slide_type": "slide"
    }
   },
   "source": [
    "<img src=\"FIGs/tyt0.png\" style=\"height:650px\" />"
   ]
  },
  {
   "cell_type": "markdown",
   "metadata": {
    "hide_input": true,
    "livereveal": {
     "transition": "none"
    },
    "slideshow": {
     "slide_type": "subslide"
    }
   },
   "source": [
    "<img src=\"FIGs/tyt0.gif\" style=\"height:650px\" />"
   ]
  },
  {
   "cell_type": "markdown",
   "metadata": {
    "livereveal": {
     "transition": "none"
    },
    "slideshow": {
     "slide_type": "subslide"
    }
   },
   "source": [
    "<img src=\"FIGs/tyt1.gif\" style=\"height:650px\" />"
   ]
  },
  {
   "cell_type": "markdown",
   "metadata": {
    "livereveal": {
     "transition": "none"
    },
    "slideshow": {
     "slide_type": "subslide"
    }
   },
   "source": [
    "<img src=\"FIGs/tyt2.gif\" style=\"height:650px\" />"
   ]
  },
  {
   "cell_type": "markdown",
   "metadata": {
    "livereveal": {
     "transition": "zoom"
    },
    "slideshow": {
     "slide_type": "subslide"
    }
   },
   "source": [
    "<img src=\"FIGs/tyt3.gif\" style=\"height:650px\" />"
   ]
  },
  {
   "cell_type": "code",
   "execution_count": 8,
   "metadata": {
    "hide_input": true,
    "slideshow": {
     "slide_type": "slide"
    }
   },
   "outputs": [
    {
     "data": {
      "application/vnd.jupyter.widget-view+json": {
       "model_id": "8c0e7569b2154c62a05b1a0f07699aca"
      }
     },
     "metadata": {},
     "output_type": "display_data"
    }
   ],
   "source": [
    "# przygotowanie rysunku\n",
    "t=ase.io.read('FIGs/MnAs_softM48_10.traj',index=':')\n",
    "v=view(t,viewer='nglview')\n",
    "\n",
    "v.custom_colors({'Mn':'green','As':'blue'})\n",
    "v.view._remote_call(\"setSize\", target=\"Widget\", args=[\"500px\", \"500px\"])\n",
    "#v.view.center_view()\n",
    "v.view.background='#ffc'\n",
    "v.view.parameters=dict(clipDist=-200)\n",
    "\n",
    "# wyświetlenie rysunku\n",
    "v"
   ]
  },
  {
   "cell_type": "markdown",
   "metadata": {
    "hide_input": true,
    "slideshow": {
     "slide_type": "slide"
    }
   },
   "source": [
    "### Opis drgań kryształu w przybliżeniu harmonicznym - metoda bezpośrednia\n",
    "\n",
    "<br />\n",
    "K. Parlinski, Z.Q. Li, and Y. Kawazoe, Phys. Rev. Lett. **78**, 4063 (1997).\n",
    "\n",
    "K. Parlinski, PHONON software (Cracow, Poland, 1997-2017), <br />\n",
    "http://wolf.ifj.edu.pl/phonon/, http://www.computingformaterials.com/"
   ]
  },
  {
   "cell_type": "markdown",
   "metadata": {
    "slideshow": {
     "slide_type": "slide"
    }
   },
   "source": [
    "### Rozwinięcie energii potencjalnej w przybliżeniu harmonicznym\n",
    "\n",
    "$$\n",
    "\\newcommand{\\mb}{\\boldsymbol}\n",
    "\\newcommand{\\h}{\\hspace{-0.05cm}}\n",
    "$$\n",
    "W przybliżeniu harmonicznym energię potencjalną sieci krystalicznej\n",
    "$E\\bigl(\\bigl\\{ {\\mb R}({\\mb n},\\mu)\\bigr\\}\\bigr)$ można rozwinąć w szereg względem wychyleń ${\\mb U}({\\mb n},\\mu)$ atomów <br />\n",
    "z ich położeń równowagi:\n",
    "\n",
    "$$\n",
    "\\begin{eqnarray}\n",
    "E\\bigl(\\{ {\\mb R}\\}\\bigr)\\; =\\; E_0\\;\\; + & & \\h \n",
    "\\sum_{{\\mb n},\\mu}\\frac{\\partial \n",
    "\t\t\t E\\bigl(\\bigl\\{{\\mb R}({\\mb n},\\mu)\\bigr\\}\\bigr) }\n",
    "\t\t\t  {\\partial {\\mb U}({\\mb n},\\mu)}\\,\n",
    "\t\t      {\\mb U}({\\mb n},\\mu) \\nonumber  \\\\\n",
    "\t\t         + & & \\h\n",
    "\\frac{1}{2}\\sum_{\\substack{{\\mb n},\\mu \\\\ {\\mb m},\\nu}}\n",
    "\\frac{\\partial^2E\\bigl(\\bigl\\{ {\\mb R}({\\mb n},\\mu)\\bigr\\}\\bigr) }\n",
    "    {\\partial {\\mb U}({\\mb n},\\mu)\\,\\partial {\\mb U}({\\mb m},\\nu)}\n",
    "\\,{\\mb U}({\\mb n},\\mu)\\,{\\mb U}({\\mb m},\\nu)\\, \\text{,}\n",
    "%\\label{eq:harmE}\n",
    "\\end{eqnarray}\n",
    "$$\n",
    "\n",
    "gdzie ${\\mb R}({\\mb n},\\mu)$ oznacza pozycję atomu $\\mu$ w komórce\n",
    "prymitywnej ${\\mb n}$, a sumowanie przebiega po całym krysztale."
   ]
  },
  {
   "cell_type": "markdown",
   "metadata": {
    "slideshow": {
     "slide_type": "slide"
    }
   },
   "source": [
    "### Macierz stałych siłowych\n",
    "\n",
    "<br />\n",
    "W rozwinięciu $\\,E\\bigl(\\bigl\\{ {\\mb R}({\\mb n},\\mu)\\bigr\\}\\bigr)$ pierwsze pochodne znikają z warunków minimum energii w równowadze, zaś drugie pochodne definiują macierz stałych siłowych:\n",
    "\n",
    "$$\n",
    "\\begin{eqnarray}\n",
    "    \\Phi_{ij}({\\mb n},\\mu;{\\mb m},\\nu ) = \n",
    "    \\frac{\\partial^2 E\\bigl(\\bigl\\{ {\\mb R}({\\mb n},\\mu)\\bigr\\}\\bigr) }\n",
    "         {\\partial U_i({\\mb n},\\mu)\\,\\partial U_j({\\mb m},\\nu)}\\, \\text{,} \n",
    "\\end{eqnarray}\n",
    "$$\n",
    "\n",
    "reprezentującą oddziaływanie między atomami w krysztale. \n"
   ]
  },
  {
   "cell_type": "markdown",
   "metadata": {
    "slideshow": {
     "slide_type": "fragment"
    }
   },
   "source": [
    "<br />\n",
    "<img src=\"FIGs/springModel1.png\" style=\"height:300px; margin-top:-45px; margin-left:650px\" />"
   ]
  },
  {
   "cell_type": "markdown",
   "metadata": {
    "slideshow": {
     "slide_type": "slide"
    }
   },
   "source": [
    "### Siły Hellmanna-Feynmana (HF)\n",
    "\n",
    "<br />\n",
    "Każde wychylenie ${\\mb U}({\\mb n},\\mu)$, nawet pojedynczego atomu, powoduje powstanie sił HF na wszystkich atomach w układzie:\n",
    "\n",
    "\\begin{eqnarray}\n",
    " {\\mb F}({\\mb n},\\mu) = - \\frac{\\partial E}{\\partial {\\mb R}({\\mb n},\\mu)}\\, .\n",
    "\\end{eqnarray}"
   ]
  },
  {
   "cell_type": "code",
   "execution_count": 4,
   "metadata": {
    "hide_input": false,
    "scrolled": true,
    "slideshow": {
     "slide_type": "skip"
    }
   },
   "outputs": [],
   "source": [
    "import ase.io\n",
    "from ase.data import covalent_radii \n",
    "from ase.data.colors import cpk_colors\n",
    "from ipywidgets import IntSlider, FloatSlider, interactive, fixed, HBox\n",
    "from glob import glob\n",
    "\n",
    "\n",
    "#scene.caption= \"\"\"Right button drag or Ctrl-drag to rotate \"camera\" to view scene.\n",
    "#To zoom, drag with middle button or Alt/Option depressed, or use scroll wheel.\n",
    "#  On a two-button mouse, middle is left + right.\n",
    "#Touch screen: pinch/extend to zoom, swipe or two-finger rotate.\"\"\"\n",
    "\n",
    "#clr={'Mn':color.green, 'As':color.blue}\n",
    "clr={25:(0,0.51,0), 33:(0,0,0.95)}\n",
    "\n",
    "\n",
    "def broom():\n",
    "    for o in scene.objects:\n",
    "        o.visible=False\n",
    "        \n",
    "class crystal:\n",
    "    def __init__( self, trj, fscale=1, rscale=1 ):\n",
    "        self.trj=trj\n",
    "        self.rscale=rscale\n",
    "        self.fscale=10**fscale\n",
    "        self.n=0\n",
    "        scene.fov=0.05\n",
    "        scene.background=vec(1,1,0.8)\n",
    "        scene.center=vec(*tuple(trj[0].get_center_of_mass()))\n",
    "        self.atoms=[sphere(pos=vec(*tuple(r)), \n",
    "                           radius=self.rscale*covalent_radii[Z], \n",
    "                           color=vec(*clr[Z])) \n",
    "                     for Z, r in zip(trj[0].get_atomic_numbers(), trj[0].get_positions())]\n",
    "        \n",
    "        self.forces=[arrow(pos=vec(*tuple(r)), \n",
    "                           axis=vec(*tuple(f)), \n",
    "                           color=color.red) \n",
    "                     for r, f in zip(self.trj[0].get_positions(), self.fscale*trj[0].get_forces())]\n",
    "   \n",
    "    def update_frame( self, n=None, fscale=None, rscale=None ):\n",
    "        if n is not None:\n",
    "            self.n=n\n",
    "        if fscale is not None:\n",
    "            self.fscale=10**fscale\n",
    "        if rscale is not None:\n",
    "            self.rscale=rscale    \n",
    "        for a, fv, r, f, Z in zip(self.atoms, self.forces, \n",
    "                               self.trj[self.n].get_positions(), \n",
    "                               self.fscale*self.trj[self.n].get_forces(),\n",
    "                               self.trj[self.n].get_atomic_numbers()):\n",
    "            a.pos=vec(*tuple(r))\n",
    "            a.radius=self.rscale*covalent_radii[Z]\n",
    "            fv.pos=vec(*tuple(r))\n",
    "            fv.axis=vec(*tuple(f))\n",
    "       \n",
    "    def show(self, maxr=5, maxf=2.5):\n",
    "        w1=interactive(self.update_frame, \n",
    "                       n=IntSlider(min=0,max=len(self.trj)-1,step=1,value=0,\n",
    "                                   description='n:'), \n",
    "                       fscale=fixed(None), \n",
    "                       rscale=fixed(None));\n",
    "        w2=interactive(self.update_frame, \n",
    "                       n=fixed(None), \n",
    "                       fscale=FloatSlider(min=1,max=maxf,value=1.0,\n",
    "                                          description='siła:'), \n",
    "                       rscale=fixed(None));\n",
    "        w3=interactive(self.update_frame, n=fixed(None), \n",
    "                       fscale=fixed(None), \n",
    "                       rscale=FloatSlider(min=0.1,max=maxr,value=1.0,\n",
    "                                          description='promień:'));\n",
    "        return HBox([w1, w2, w3])"
   ]
  },
  {
   "cell_type": "code",
   "execution_count": 6,
   "metadata": {
    "hide_input": false,
    "scrolled": false,
    "slideshow": {
     "slide_type": "subslide"
    }
   },
   "outputs": [
    {
     "data": {
      "application/javascript": [
       "require.undef(\"nbextensions/vpython_libraries/glow.min\");"
      ],
      "text/plain": [
       "<IPython.core.display.Javascript object>"
      ]
     },
     "metadata": {},
     "output_type": "display_data"
    },
    {
     "data": {
      "application/javascript": [
       "require.undef(\"nbextensions/vpython_libraries/glowcomm\");"
      ],
      "text/plain": [
       "<IPython.core.display.Javascript object>"
      ]
     },
     "metadata": {},
     "output_type": "display_data"
    },
    {
     "data": {
      "application/javascript": [
       "require.undef(\"nbextensions/vpython_libraries/jquery-ui.custom.min\");"
      ],
      "text/plain": [
       "<IPython.core.display.Javascript object>"
      ]
     },
     "metadata": {},
     "output_type": "display_data"
    },
    {
     "data": {
      "application/javascript": [
       "require([\"nbextensions/vpython_libraries/glow.min\"], function(){console.log(\"GLOW LOADED\");})"
      ],
      "text/plain": [
       "<IPython.core.display.Javascript object>"
      ]
     },
     "metadata": {},
     "output_type": "display_data"
    },
    {
     "data": {
      "application/javascript": [
       "require([\"nbextensions/vpython_libraries/glowcomm\"], function(){console.log(\"GLOWCOMM LOADED\");})"
      ],
      "text/plain": [
       "<IPython.core.display.Javascript object>"
      ]
     },
     "metadata": {},
     "output_type": "display_data"
    },
    {
     "data": {
      "application/javascript": [
       "require([\"nbextensions/vpython_libraries/jquery-ui.custom.min\"], function(){console.log(\"JQUERY LOADED\");})"
      ],
      "text/plain": [
       "<IPython.core.display.Javascript object>"
      ]
     },
     "metadata": {},
     "output_type": "display_data"
    },
    {
     "data": {
      "text/html": [
       "<div id=\"glowscript\" class=\"glowscript\"></div>"
      ],
      "text/plain": [
       "<IPython.core.display.HTML object>"
      ]
     },
     "metadata": {},
     "output_type": "display_data"
    },
    {
     "data": {
      "application/javascript": [
       "window.__context = { glowscript_container: $(\"#glowscript\").removeAttr(\"id\")}"
      ],
      "text/plain": [
       "<IPython.core.display.Javascript object>"
      ]
     },
     "metadata": {},
     "output_type": "display_data"
    }
   ],
   "source": [
    "from vpython import scene, vec, sphere, arrow, color"
   ]
  },
  {
   "cell_type": "code",
   "execution_count": 7,
   "metadata": {
    "hide_input": true
   },
   "outputs": [
    {
     "data": {
      "application/vnd.jupyter.widget-view+json": {
       "model_id": "8ce768483ff7411ab9b4d4efb6319b88"
      }
     },
     "metadata": {},
     "output_type": "display_data"
    }
   ],
   "source": [
    "broom()\n",
    "            \n",
    "#trj=ase.io.Trajectory('data/md_T_1000.traj')\n",
    "#trj=ase.io.read('FIGs/OUTCAR1', index=':')\n",
    "trj=[ase.io.read(fn) for fn in sorted(glob('FIGs/OUTCAR_??'))]\n",
    "\n",
    "c=crystal(trj)\n",
    "c.show(1,2.5)"
   ]
  },
  {
   "cell_type": "markdown",
   "metadata": {
    "slideshow": {
     "slide_type": "slide"
    }
   },
   "source": [
    "### Zależność sił HF od stałych siłowych\n",
    "\n",
    "<br />\n",
    "W przybliżeniu harmonicznym z rozwinięcia energii otrzymujemy zależność:\n",
    "\n",
    "$$\n",
    "\\begin{eqnarray}\n",
    " F_i({\\mb n},\\mu) = -\\sum_{{\\mb m},\\nu,j}\n",
    "\t\t\t\\Phi_{ij}({\\mb n},\\mu;{\\mb m},\\nu )\n",
    "\t\t\t\\,U_j({\\mb m},\\nu) .\n",
    "\\end{eqnarray}\n",
    "$$\n"
   ]
  },
  {
   "cell_type": "markdown",
   "metadata": {
    "slideshow": {
     "slide_type": "slide"
    }
   },
   "source": [
    "### Macierz dynamiczna\n",
    "\n",
    "<br />\n",
    "Macierz dynamiczną definiujemy jako transformatę Fouriera macierzy stałych\n",
    "siłowych:\n",
    "\n",
    "$$\n",
    "\\begin{eqnarray}\n",
    " {\\mb D}({\\mb k};\\mu,\\nu) = \\frac{1}{\\sqrt{M_\\mu M_\\nu}}\n",
    " \t\\sum_{\\mb m} {\\mb \\Phi}(0,\\mu;{\\mb m},\\nu)\\;\n",
    "\t\\text{e}^{-2\\pi i{\\mb k}\\cdot[ {\\mb R}(0,\\mu)-{\\mb R}({\\mb m},\\nu)]} \\text{,}\n",
    "\\end{eqnarray}\n",
    "$$\n",
    "\n",
    "gdzie ${\\mb k}$ jest wektorem falowym, $M_\\mu$ i $M_\\nu$ masami atomów\n",
    "$\\mu$ i $\\nu$, zaś sumowanie przebiega po wszystkich atomach kryształu."
   ]
  },
  {
   "cell_type": "markdown",
   "metadata": {
    "slideshow": {
     "slide_type": "subslide"
    }
   },
   "source": [
    "### Równanie własne\n",
    "\n",
    "<br />\n",
    "Rozwiązanie równania własnego:\n",
    "\n",
    "$$\n",
    "\\begin{eqnarray}\n",
    " {\\mb D}({\\mb k})\\,{\\mb e}({\\mb k},j) = \\omega^2({\\mb k},j)\\,{\\mb e}({\\mb k},j) \n",
    "\\end{eqnarray}\n",
    "$$\n",
    "\n",
    "poprzez diagonalizację macierzy dynamicznej daje częstości drgań \n",
    "$\\,\\omega({\\mb k},j)$ \n",
    "<br />\n",
    "i wektory polaryzacji $\\,{\\mb e}({\\mb k},j)$."
   ]
  },
  {
   "cell_type": "markdown",
   "metadata": {
    "slideshow": {
     "slide_type": "subslide"
    }
   },
   "source": [
    "<img src=\"FIGs/DC2.png\" style=\"width:1600px\" />"
   ]
  },
  {
   "cell_type": "markdown",
   "metadata": {
    "slideshow": {
     "slide_type": "slide"
    }
   },
   "source": [
    "### Wyliczane własności dynamiczne \n",
    "\n",
    "<br />\n",
    "Metodą bezpośrednią można wyliczyć między innymi następujące własności materiałowe:\n",
    "\n",
    "* fononowe relacje dyspersji\n",
    "* intensywności pików fononowych\n",
    "* parametry Grüneissena\n",
    "* wektory polaryzacji + animacja\n",
    "* całkowite i cząstkowe widma DOS\n",
    "* funkcje termodynamiczne: E, S, F, G, c$_\\text{v}$\n",
    "* czynniki Debye'a-Waller'a\n",
    "* rozszerzalność cieplna\n",
    "* rozpraszanie neutronów i X\n",
    "* diagramy fazowe, granice stabilności struktur\n"
   ]
  },
  {
   "cell_type": "markdown",
   "metadata": {
    "collapsed": true,
    "slideshow": {
     "slide_type": "slide"
    }
   },
   "source": [
    "# [PRZYKŁAD: przejście fazowe w MnAs](http://wolf.ifj.edu.pl/~lazewski/ws/warsztatyJL17.pdf)\n",
    "    "
   ]
  },
  {
   "cell_type": "code",
   "execution_count": 9,
   "metadata": {
    "nbpresent": {
     "id": "0814c355-7d55-412d-ac84-a385f25d577e"
    },
    "slideshow": {
     "slide_type": "skip"
    }
   },
   "outputs": [
    {
     "name": "stdout",
     "output_type": "stream",
     "text": [
      "[NbConvertApp] Converting notebook FononyDFT.ipynb to slides\n",
      "[NbConvertApp] Writing 269884 bytes to FononyDFT.slides.html\n"
     ]
    }
   ],
   "source": [
    "!jupyter nbconvert FononyDFT.ipynb --to slides"
   ]
  }
 ],
 "metadata": {
  "anaconda-cloud": {},
  "celltoolbar": "Slideshow",
  "hide_input": false,
  "kernelspec": {
   "display_name": "Python [default]",
   "language": "python",
   "name": "python3"
  },
  "language_info": {
   "codemirror_mode": {
    "name": "ipython",
    "version": 3
   },
   "file_extension": ".py",
   "mimetype": "text/x-python",
   "name": "python",
   "nbconvert_exporter": "python",
   "pygments_lexer": "ipython3",
   "version": "3.5.3"
  },
  "livereveal": {
   "height": 768,
   "minScale": 0.85,
   "start_slideshow_at": "selected",
   "transition": "fade",
   "width": 1024
  },
  "nbpresent": {
   "slides": {
    "0c5743a8-8af1-4e13-b3bc-ae24cdea3609": {
     "id": "0c5743a8-8af1-4e13-b3bc-ae24cdea3609",
     "prev": "9bf68f73-c428-4a59-8957-97e8cedbf1b0",
     "regions": {
      "ee6868a6-5810-4b4c-a93d-55c3cac3ae19": {
       "attrs": {
        "height": 0.8,
        "width": 0.8,
        "x": 0.1,
        "y": 0.1
       },
       "content": {
        "cell": "ee126123-97cf-49d6-8052-b5c8aebe65c9",
        "part": "whole"
       },
       "id": "ee6868a6-5810-4b4c-a93d-55c3cac3ae19"
      }
     }
    },
    "8bc09711-5d9c-4cc9-bb53-0088390033dc": {
     "id": "8bc09711-5d9c-4cc9-bb53-0088390033dc",
     "prev": "a8329a72-8f01-448e-b262-8b82d6664122",
     "regions": {
      "eddb2f56-6ce5-4a75-b9e5-dfb13589423c": {
       "attrs": {
        "height": 0.8,
        "width": 0.8,
        "x": 0.1,
        "y": 0.1
       },
       "content": {
        "cell": "0814c355-7d55-412d-ac84-a385f25d577e",
        "part": "whole"
       },
       "id": "eddb2f56-6ce5-4a75-b9e5-dfb13589423c"
      }
     }
    },
    "8cccd1ac-f6f0-4922-afc2-61798cadef79": {
     "id": "8cccd1ac-f6f0-4922-afc2-61798cadef79",
     "prev": "0c5743a8-8af1-4e13-b3bc-ae24cdea3609",
     "regions": {
      "a793e267-afe0-4606-be8a-8020cd5b3e7b": {
       "attrs": {
        "height": 0.8,
        "width": 0.8,
        "x": 0.1,
        "y": 0.1
       },
       "content": {
        "cell": "cff51814-a18c-4e85-bdf0-4574c8d29422",
        "part": "whole"
       },
       "id": "a793e267-afe0-4606-be8a-8020cd5b3e7b"
      }
     }
    },
    "9bf68f73-c428-4a59-8957-97e8cedbf1b0": {
     "id": "9bf68f73-c428-4a59-8957-97e8cedbf1b0",
     "prev": null,
     "regions": {
      "7dcdeb85-2321-4c07-8abe-92a3429725cb": {
       "attrs": {
        "height": 0.8,
        "width": 0.8,
        "x": 0.1,
        "y": 0.1
       },
       "content": {
        "cell": "f4cafe3c-aca1-40ea-b9e8-c2c6d2d680f6",
        "part": "whole"
       },
       "id": "7dcdeb85-2321-4c07-8abe-92a3429725cb"
      }
     }
    },
    "a8329a72-8f01-448e-b262-8b82d6664122": {
     "id": "a8329a72-8f01-448e-b262-8b82d6664122",
     "prev": "dea1185b-f7f5-4568-921f-4491271f97ea",
     "regions": {
      "41dbb2fe-79aa-4af0-b47a-c7876644323e": {
       "attrs": {
        "height": 0.8,
        "width": 0.8,
        "x": 0.1,
        "y": 0.1
       },
       "content": {
        "cell": "c47972e9-4105-40dc-a05f-8f9c54489388",
        "part": "whole"
       },
       "id": "41dbb2fe-79aa-4af0-b47a-c7876644323e"
      }
     }
    },
    "dea1185b-f7f5-4568-921f-4491271f97ea": {
     "id": "dea1185b-f7f5-4568-921f-4491271f97ea",
     "prev": "8cccd1ac-f6f0-4922-afc2-61798cadef79",
     "regions": {
      "be84f197-3032-40ee-b551-78415a58ea60": {
       "attrs": {
        "height": 0.8,
        "width": 0.8,
        "x": 0.1,
        "y": 0.1
       },
       "content": {
        "cell": "5e667383-cc50-4547-8be5-dc737a7994d4",
        "part": "whole"
       },
       "id": "be84f197-3032-40ee-b551-78415a58ea60"
      }
     }
    }
   },
   "themes": {}
  },
  "varInspector": {
   "cols": {
    "lenName": 16,
    "lenType": 16,
    "lenVar": 40
   },
   "kernels_config": {
    "python": {
     "delete_cmd_postfix": "",
     "delete_cmd_prefix": "del ",
     "library": "var_list.py",
     "varRefreshCmd": "print(var_dic_list())"
    },
    "r": {
     "delete_cmd_postfix": ") ",
     "delete_cmd_prefix": "rm(",
     "library": "var_list.r",
     "varRefreshCmd": "cat(var_dic_list()) "
    }
   },
   "types_to_exclude": [
    "module",
    "function",
    "builtin_function_or_method",
    "instance",
    "_Feature"
   ],
   "window_display": false
  }
 },
 "nbformat": 4,
 "nbformat_minor": 2
}
