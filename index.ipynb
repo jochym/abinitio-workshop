{
 "cells": [
  {
   "cell_type": "markdown",
   "metadata": {},
   "source": [
    "# Warsztaty modelowania w nanofizyce¶\n",
    "\n",
    "**Paweł T. Jochym**\n",
    "\n",
    "Zakład komputerowych badań materiałów\n",
    "\n",
    "Instytut Fizyki Jądrowej PAN, Kraków"
   ]
  },
  {
   "cell_type": "markdown",
   "metadata": {},
   "source": [
    "## Wstęp\n",
    "\n",
    "Poniższe materiały mają formę zbioru zeszytów [Jupyter](https://jupyter.org/) dostępnych w publicznym repozytorium:\n",
    "[https://github.com/jochym/abinitio-workshop](https://github.com/jochym/abinitio-workshop). \n",
    "\n",
    "Prezentacja dostępna jest w serwisie [nbviewer](https://nbviewer.ipython.org/) w postaci [slajdów](https://nbviewer.ipython.org/format/slides/github/jochym/abinitio-workshop/blob/master/notebooks/Prezentacja.ipynb)  lub jako [plik źródłowy](https://nbviewer.ipython.org/github/jochym/abinitio-workshop/blob/master/notebooks/Prezentacja.ipynb). \n",
    "\n",
    "Materiały ćwiczeniowe i obliczenia pomocnicze zawarte są w kartotece [notebooks](notebooks/) w postaci osobnych dokumentów. \n",
    "\n",
    "Zeszyty można także oglądnąć i eksperymentować na nich otwierając je w serwisie binder. Jedynym wymaganiem jest posiadanie działającej, współczesnej przeglądarki WWW (np. firefox,chrome,safari). Wystarczy kliknąć poniższą ikonę.\n",
    "\n",
    "[![Binder](http://mybinder.org/badge.svg)](http://mybinder.org/repo/jochym/abinitio-workshop) \n",
    "\n",
    "**Uwaga:** *Niestety, serwis binder jest w fazie beta i nie zawsze funkcjonuje. Jeśli powyższy link nie działa trzeba odłożyć eksperymenty na inny dzień.*\n",
    "\n",
    "*Wszystkie przykłady oraz konieczne dane a także pełny tekst prezentacji znajduje się w repozytorium.*\n"
   ]
  },
  {
   "cell_type": "markdown",
   "metadata": {
    "run_control": {
     "frozen": false,
     "read_only": false
    }
   },
   "source": [
    "## Prezentacja\n",
    "\n",
    "* [Slajdy](https://nbviewer.ipython.org/format/slides/github/jochym/abinitio-workshop/blob/master/notebooks/Prezentacja.ipynb)\n",
    "* [Zeszyt źródłowy prezentacji](notebooks/Prezentacja.ipynb)\n",
    "* [Zeszyt generujący animacje](notebooks/Animacje.ipynb)\n",
    "\n",
    "\n",
    "## Ćwiczenia\n",
    "\n",
    "* [Wizualizacja](notebooks/Wizualizacja.ipynb)\n",
    "* [Ruch atomów w różnych temperaturach](notebooks/Amplitudy.ipynb)\n",
    "* [Zachowania grup atomów](notebooks/Grupy.ipynb)\n",
    "* [Termodynamika nanocząstki](notebooks/Termodynamika.ipynb)"
   ]
  }
 ],
 "metadata": {
  "hide_input": false,
  "kernelspec": {
   "display_name": "Python 3",
   "language": "python",
   "name": "python3"
  },
  "language_info": {
   "codemirror_mode": {
    "name": "ipython",
    "version": 3
   },
   "file_extension": ".py",
   "mimetype": "text/x-python",
   "name": "python",
   "nbconvert_exporter": "python",
   "pygments_lexer": "ipython3",
   "version": "3.5.1"
  },
  "toc": {
   "toc_cell": false,
   "toc_number_sections": false,
   "toc_threshold": 6,
   "toc_window_display": true
  },
  "widgets": {
   "state": {},
   "version": "1.1.1"
  }
 },
 "nbformat": 4,
 "nbformat_minor": 0
}
