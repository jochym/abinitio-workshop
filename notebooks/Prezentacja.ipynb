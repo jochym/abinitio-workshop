{
 "cells": [
  {
   "cell_type": "markdown",
   "metadata": {
    "slideshow": {
     "slide_type": "notes"
    },
    "toc": "true"
   },
   "source": [
    "# Table of Contents\n",
    " <p><div class=\"lev1\"><a href=\"#Warsztaty-metod-obliczeniowych-ab-initio\">Warsztaty metod obliczeniowych <em>ab-initio</em></a></div><div class=\"lev2\"><a href=\"#Wstęp\">Wstęp</a></div><div class=\"lev2\"><a href=\"#Plan\">Plan</a></div>"
   ]
  },
  {
   "cell_type": "markdown",
   "metadata": {
    "run_control": {
     "frozen": false,
     "read_only": false
    },
    "slideshow": {
     "slide_type": "slide"
    }
   },
   "source": [
    "# Warsztaty metod obliczeniowych *ab-initio*\n",
    "\n",
    "**Paweł T. Jochym**\n",
    "\n",
    "Zakład komputerowych badań materiałów\n",
    "\n",
    "Instytut Fizyki Jądrowej PAN, Kraków"
   ]
  },
  {
   "cell_type": "markdown",
   "metadata": {
    "slideshow": {
     "slide_type": "subslide"
    }
   },
   "source": [
    "## Wstęp\n",
    "\n",
    "Materiały pomocnicze do warsztatów mają formę zbioru zeszytów [Jupyter](https://jupyter.org/) dostępnych w publicznym repozytorium:\n",
    "[https://github.com/jochym/abinitio-workshop](https://github.com/jochym/abinitio-workshop). \n",
    "\n",
    "Zeszyty można oglądnąć i eksperymentować na nich otwierając je w serwisie binder. Jedynym wymaganiem jest posiadanie działającej, współczesnej przeglądarki WWW (np. firefox,chrome,safari). Wystarczy kliknąć poniższą ikonę.\n",
    "\n",
    "[![Binder](http://mybinder.org/badge.svg)](http://mybinder.org/repo/jochym/abinitio-workshop) \n",
    "\n",
    "*Wszystkie przykłady oraz konieczne dane a także pełny tekst prezentacji znajduje się w repozytorium.*"
   ]
  },
  {
   "cell_type": "markdown",
   "metadata": {
    "slideshow": {
     "slide_type": "subslide"
    }
   },
   "source": [
    "## Plan\n",
    "\n",
    "* Schemat obliczeń\n",
    "* Środowisko\n",
    "* Wyliczenie struktury kryształu\n",
    "* Własności elastyczne kryształu\n",
    "* Dynamika molekularna nanocząstki\n",
    "* Termodynamika nanocząstki"
   ]
  },
  {
   "cell_type": "markdown",
   "metadata": {},
   "source": []
  }
 ],
 "metadata": {
  "celltoolbar": "Slideshow",
  "hide_input": false,
  "kernelspec": {
   "display_name": "Python 3",
   "language": "python",
   "name": "python3"
  },
  "language_info": {
   "codemirror_mode": {
    "name": "ipython",
    "version": 3
   },
   "file_extension": ".py",
   "mimetype": "text/x-python",
   "name": "python",
   "nbconvert_exporter": "python",
   "pygments_lexer": "ipython3",
   "version": "3.5.1"
  },
  "toc": {
   "toc_cell": true,
   "toc_number_sections": false,
   "toc_threshold": 6,
   "toc_window_display": true
  },
  "widgets": {
   "state": {},
   "version": "1.1.1"
  }
 },
 "nbformat": 4,
 "nbformat_minor": 0
}
