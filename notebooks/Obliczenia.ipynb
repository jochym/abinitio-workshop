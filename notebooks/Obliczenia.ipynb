{
 "cells": [
  {
   "cell_type": "markdown",
   "metadata": {
    "deletable": true,
    "editable": true,
    "run_control": {
     "frozen": false,
     "read_only": false
    }
   },
   "source": [
    "# Warsztaty modelowania w nanofizyce\n",
    "----\n",
    "## Obliczenia z pierwszych zasad\n",
    "\n",
    "**Paweł T. Jochym**\n",
    "\n",
    "Zakład Komputerowych Badań Materiałów\n",
    "\n",
    "Instytut Fizyki Jądrowej PAN, Kraków"
   ]
  },
  {
   "cell_type": "markdown",
   "metadata": {
    "deletable": true,
    "editable": true
   },
   "source": [
    "---\n",
    "\n",
    "Przekonajmy się jaka jest faktyczna stała sieci diamentu. Użyjemy w tym celu programu abinit. Komórka elementarna diamentu zawiera jedynie dwa atomy więc nasz rachunek nie powinien trwać zbyt długo. Procedura składa się zasadniczo z następujących kroków:\n",
    "\n",
    "1. Konfiguracja programu obliczeniowego (kalkulatora)\n",
    "2. Budowa struktur\n",
    "3. Uruchomienie obliczeń\n",
    "4. Zebranie wyników i ich interpretacja\n",
    "5. Modyfikacja parametrów obliczeń/struktur\n",
    "6. Powrót do punktu 3\n",
    "\n",
    "**Uwaga: Parametry rachunku użyte poniżej dobrane zostały tak aby uzyskać wynik zbliżony do prawidłowego w krótkim czasie. W żadnym razie nie należy ich używać jako rozsądnych parametrów startowych dla prawdziwych obliczeń.** \n",
    "\n",
    "**Śmieć na wejściu - Śmieć na wyjściu**"
   ]
  },
  {
   "cell_type": "code",
   "execution_count": 1,
   "metadata": {
    "collapsed": false,
    "deletable": true,
    "editable": true,
    "run_control": {
     "frozen": false,
     "read_only": false
    }
   },
   "outputs": [],
   "source": [
    "# Import potrzebnych modułów\n",
    "%matplotlib inline\n",
    "from matplotlib import pyplot as plt\n",
    "import matplotlib as mpl\n",
    "import numpy as np\n",
    "from ase.build import bulk\n",
    "from ase import units\n",
    "import ase.io\n",
    "from IPython.core.display import Image\n",
    "from __future__ import division, print_function"
   ]
  },
  {
   "cell_type": "code",
   "execution_count": 2,
   "metadata": {
    "collapsed": true,
    "deletable": true,
    "editable": true,
    "run_control": {
     "frozen": false,
     "read_only": false
    }
   },
   "outputs": [],
   "source": [
    "from ase import Atoms\n",
    "from ase.units import Ry\n",
    "from ase.calculators.abinit import Abinit\n",
    "import os\n",
    "import sys"
   ]
  },
  {
   "cell_type": "code",
   "execution_count": 3,
   "metadata": {
    "collapsed": false,
    "deletable": true,
    "editable": true,
    "run_control": {
     "frozen": false,
     "read_only": false
    }
   },
   "outputs": [],
   "source": [
    "# Konfiguracja programu abinit\n",
    "os.environ['ASE_ABINIT_COMMAND']='abinit < PREFIX.files > PREFIX.log'\n",
    "os.environ['ABINIT_PP_PATH']='abinit_psp/GGA_FHI/:abinit_psp/LDA_FHI/:abinit_psp/LDA_PAW/:abinit_psp/GGA_PAW/'"
   ]
  },
  {
   "cell_type": "markdown",
   "metadata": {
    "deletable": true,
    "editable": true
   },
   "source": [
    "### Tworzenie struktury\n",
    "\n",
    "Zdefiniowanie struktury wymaga podania jej składu atomowego oraz pozycji jej składników. W przypadku struktur krystalicznych powinniśmy także określić ich symeterię oraz rozmiar i rodzaj ich komórki elementarnej.\n",
    "\n",
    "Zacznijmy od jednej z najprostszych struktur krystalicznych - diamentu. Jej podstawowy element, komórka elementarna, zawiera zaledwie dwa atomy.\n",
    "\n",
    "Utworzoną strukturę warto wyświetlić dla kontroli poprawności."
   ]
  },
  {
   "cell_type": "code",
   "execution_count": 4,
   "metadata": {
    "collapsed": false,
    "deletable": true,
    "editable": true,
    "run_control": {
     "frozen": false,
     "read_only": false
    }
   },
   "outputs": [
    {
     "data": {
      "text/plain": [
       "array([[ 0.,  2.,  2.],\n",
       "       [ 2.,  0.,  2.],\n",
       "       [ 2.,  2.,  0.]])"
      ]
     },
     "execution_count": 4,
     "metadata": {},
     "output_type": "execute_result"
    }
   ],
   "source": [
    "diam = bulk(name='C',crystalstructure='diamond',a=4)\n",
    "diam.get_cell()"
   ]
  },
  {
   "cell_type": "code",
   "execution_count": 5,
   "metadata": {
    "collapsed": false,
    "deletable": true,
    "editable": true,
    "run_control": {
     "frozen": false,
     "read_only": false
    }
   },
   "outputs": [
    {
     "data": {
      "image/png": "[encoded data removed]",
      "text/plain": [
       "<IPython.core.display.Image object>"
      ]
     },
     "execution_count": 5,
     "metadata": {},
     "output_type": "execute_result"
    }
   ],
   "source": [
    "# Zapis obrazu kryształu na dysk\n",
    "ase.io.write('diament.png',       # Nazwa pliku\n",
    "             diam,             # obiekt zawierający definicję struktury\n",
    "             show_unit_cell=2,    # Rysowanie komórki elementarnej\n",
    "             rotation='115y,15x', # Obrót 115st wokół osi Y i 15st wokół osi X\n",
    "             scale=30)            # Skala\n",
    "\n",
    "# Wyświetlamy\n",
    "Image(filename='diament.png')"
   ]
  },
  {
   "cell_type": "markdown",
   "metadata": {},
   "source": [
    "### Przygotowanie programu do obliczeń\n",
    "\n",
    "Programy do obliczeń kwantowo-mechanicznych wymagają ustalenia wielu parametrów rachunku. Aby uzyskane wyniki miały jakąkolwiek wartość dobór tych parametrów musi być wykonany bardzo starannie. Parametry użyte poniżej zostały dobrane tak aby obliczenia przebiegały szybko. Prowadzi to do dużej niedokładności uzyskanuych wyników. \n",
    "\n",
    "**W żadnym przypadku nie należy traktować użytych tutaj parametrów jako wzoru do naśladowania w realnej pracy badawczej**"
   ]
  },
  {
   "cell_type": "code",
   "execution_count": 6,
   "metadata": {
    "collapsed": true
   },
   "outputs": [],
   "source": [
    "calc = Abinit(label='diam',\n",
    "              nbands=8,  \n",
    "              ecut=20 * Ry,  # Uwaga! \n",
    "              kpts=[4, 4, 4],  # Uwaga!\n",
    "              chksymbreak=0,\n",
    "              )\n",
    "\n",
    "\n",
    "calc.set(toldfe=1.0e-3)  # Uwaga!"
   ]
  },
  {
   "cell_type": "code",
   "execution_count": 7,
   "metadata": {
    "collapsed": false,
    "deletable": true,
    "editable": true,
    "run_control": {
     "frozen": false,
     "read_only": false
    }
   },
   "outputs": [
    {
     "name": "stdout",
     "output_type": "stream",
     "text": [
      "a: 3.000000 e: -297.676505\n",
      "a: 3.500000 e: -305.357851\n",
      "a: 4.000000 e: -303.990511\n",
      "a: 4.500000 e: -300.691428\n",
      "a: 5.000000 e: -298.132358\n"
     ]
    }
   ],
   "source": [
    "# Pusta lista na wyniki\n",
    "e_vs_a=[]\n",
    "\n",
    "# Iterujemy po stałej sieci\n",
    "for a in np.linspace(3,5,5):\n",
    "    # W sieci diamentu składowe wektorów wynoszą a0/2\n",
    "    b = a / 2\n",
    "    \n",
    "    # Ustawiamy komórkę na nowe rozmiary\n",
    "    diam.set_cell([(0, b, b),\n",
    "                   (b, 0, b),\n",
    "                   (b, b, 0)], scale_atoms=True)\n",
    "\n",
    "    # Przypisujemy procedurę obliczeniową\n",
    "    diam.set_calculator(calc)\n",
    "    \n",
    "    # Faktyczne wywołanie programu abinit\n",
    "    e = diam.get_potential_energy()\n",
    "    \n",
    "    # Dodajemy wynik do listy\n",
    "    e_vs_a.append([a,e])\n",
    "    \n",
    "    # Monitorowanie postępów\n",
    "    print('a: %5f e: %5f' % (a,e))\n",
    "    sys.stdout.flush()\n",
    "    \n",
    "# Konwersja na wygodniejszą postać (macierz)\n",
    "e_vs_a=np.array(e_vs_a).T"
   ]
  },
  {
   "cell_type": "code",
   "execution_count": 8,
   "metadata": {
    "collapsed": false,
    "deletable": true,
    "editable": true,
    "run_control": {
     "frozen": false,
     "read_only": false
    }
   },
   "outputs": [
    {
     "data": {
      "image/png": "[encoded data removed]",
      "text/plain": [
       "<matplotlib.figure.Figure at 0x7f6441553208>"
      ]
     },
     "metadata": {},
     "output_type": "display_data"
    }
   ],
   "source": [
    "# Wykres wyników\n",
    "plt.figure(figsize=(8,6))\n",
    "\n",
    "# Wyliczone punkty\n",
    "plt.plot(e_vs_a[0],e_vs_a[1],'o',label='AbInit LDA')\n",
    "\n",
    "# Dopasowanie wielomianu\n",
    "fit=np.polyfit(e_vs_a[0],e_vs_a[1],4)\n",
    "\n",
    "# I jego wykres\n",
    "x=np.linspace(e_vs_a[0].min(),e_vs_a[0].max(),100)\n",
    "plt.plot(x,np.polyval(fit,x),'-',label=u'Dopasowanie')\n",
    "\n",
    "# Dodatkowe elementy rysunku\n",
    "plt.axvline(x[np.polyval(fit,x).argmin()],ls='--',\n",
    "            label='Minimum=%6.3f' % (x[np.polyval(fit,x).argmin()],))\n",
    "plt.axvline(3.56683,ls=':',color='k',label='Eksperyment (300K)')\n",
    "\n",
    "# Opisy\n",
    "plt.legend(loc='best')\n",
    "plt.xlabel('$a_0$ (A)')\n",
    "plt.ylabel('$E$ (eV)');"
   ]
  },
  {
   "cell_type": "markdown",
   "metadata": {
    "collapsed": true,
    "deletable": true,
    "editable": true,
    "run_control": {
     "frozen": false,
     "read_only": false
    }
   },
   "source": [
    "Sprawdźmy jakie są naprężenia struktury optymalnej."
   ]
  },
  {
   "cell_type": "code",
   "execution_count": 9,
   "metadata": {
    "collapsed": false,
    "deletable": true,
    "editable": true,
    "run_control": {
     "frozen": false,
     "read_only": false
    }
   },
   "outputs": [
    {
     "name": "stdout",
     "output_type": "stream",
     "text": [
      "[ 131.85632625  131.85632625  131.85632625    0.            0.            0.        ]\n"
     ]
    }
   ],
   "source": [
    "# Ustawmy a0 na najmniejszy punkt fitu\n",
    "a0=x[np.polyval(fit,x).argmin()]\n",
    "b = a0 / 2\n",
    "\n",
    "# Ustawiamy komórkę na nowe rozmiary\n",
    "diam.set_cell([(0, b, b),\n",
    "               (b, 0, b),\n",
    "               (b, b, 0)], scale_atoms=True)\n",
    "diam.set_calculator(calc)\n",
    "stres=diam.get_stress()\n",
    "print(stres/units.GPa)"
   ]
  },
  {
   "cell_type": "markdown",
   "metadata": {
    "deletable": true,
    "editable": true
   },
   "source": [
    "### Dopasowanie równania stanu\n",
    "\n",
    "Dopasujmy logarytmiczne równanie stanu Bircha-Murnaghana do zależności objętość-ciśnienie dla naszego kryształu aby uzyskać:\n",
    "\n",
    "* Równowagową stałą sieci $A_0$\n",
    "* Objętościowy moduł ściśliwości $B_0$\n",
    "* Objętościową pochodną modułu ściśliwości $B'_0$\n",
    "\n",
    "Równanie Bircha-Murnaghana ma postać:\n",
    "\n",
    "$$\n",
    "P(V)=\\frac{B_0}{B'_0} \\left[\\left(\\frac{V_0}{V}\\right)^{B'_0}-1\\right]\n",
    "$$\n",
    "\n",
    "Aby dopasować powyższą funkcję do wyliczonych punktów użyjemy procedury dopasowania nieliniowych funkcji (`leastsq`) z modułu `optimize` biblioteki `SciPy`. Dokumentację tej i pozostałych bibliotek można znaleźć w menu Help powyzej.\n",
    "\n",
    "W pierwszej kolejności musmy wyliczyć punkty objętość-ciśnienie analogicznie jak poprzednio w zakresie +/- 5% od $a_0$. Następnie dopasujemy równanie stanu do otrzymanych punktów. Eksperymentalne $B_0$ diamentu wynosi 443 GPa.\n"
   ]
  },
  {
   "cell_type": "code",
   "execution_count": 10,
   "metadata": {
    "collapsed": false,
    "deletable": true,
    "editable": true,
    "run_control": {
     "frozen": false,
     "read_only": false
    }
   },
   "outputs": [
    {
     "name": "stdout",
     "output_type": "stream",
     "text": [
      "V:   10.05 A^3   P:  -82.22 GPa\n",
      "V:   10.87 A^3   P: -111.26 GPa\n",
      "V:   11.72 A^3   P: -131.86 GPa\n",
      "V:   12.62 A^3   P: -145.65 GPa\n",
      "V:   13.57 A^3   P: -153.69 GPa\n"
     ]
    }
   ],
   "source": [
    "# Miejsce na wynik\n",
    "wynik=[]\n",
    "for a in np.linspace(a0*0.95,a0*1.05,5):\n",
    "    # W sieci diamentu składowe wektorów wynoszą a0/2\n",
    "    b = a / 2\n",
    "    \n",
    "    # Ustawiamy komórkę na nowe rozmiary\n",
    "    diam.set_cell([(0, b, b),\n",
    "                   (b, 0, b),\n",
    "                   (b, b, 0)], scale_atoms=True)\n",
    "\n",
    "    # Przypisujemy procedurę obliczeniową\n",
    "    diam.set_calculator(calc)\n",
    "    \n",
    "    # Faktyczne wywołanie programu abinit\n",
    "    # W równaniu stanu występuje ciśnienie zewnętrzne - stąd minus\n",
    "    stres = -(diam.get_stress()[:3]).mean()/units.GPa\n",
    "    \n",
    "    # Dodajemy wynik do listy\n",
    "    wynik.append([diam.get_volume(),stres])\n",
    "    \n",
    "    # Monitorowanie postępów\n",
    "    print('V: %7.2f A^3   P: %7.2f GPa' % (diam.get_volume(),stres))\n",
    "    sys.stdout.flush()\n",
    "\n",
    "wynik=np.array(wynik).T"
   ]
  },
  {
   "cell_type": "code",
   "execution_count": 11,
   "metadata": {
    "collapsed": false,
    "deletable": true,
    "editable": true,
    "run_control": {
     "frozen": false,
     "read_only": false
    }
   },
   "outputs": [
    {
     "data": {
      "image/png": "[encoded data removed]",
      "text/plain": [
       "<matplotlib.figure.Figure at 0x7f6428e614e0>"
      ]
     },
     "metadata": {},
     "output_type": "display_data"
    }
   ],
   "source": [
    "# Moduł dopasowania\n",
    "from scipy import optimize\n",
    "\n",
    "# Definicja funkcji stanu\n",
    "def BMEOS(v,v0,b0,b0p):\n",
    "        return (b0/b0p)*(pow(v0/v,b0p) - 1)\n",
    "\n",
    "# Funkcje pomocnicze potrzebne do procedury dopasowania\n",
    "# Funkcja dopasowywana oraz rezidua\n",
    "fitfunc = lambda p, x: [BMEOS(xv,p[0],p[1],p[2]) for xv in x]\n",
    "errfunc = lambda p, x, y: fitfunc(p, x) - y\n",
    "\n",
    "plt.figure(figsize=(8,6))\n",
    "plt.plot(wynik[0],wynik[1],'+',markersize=10,markeredgewidth=2,label='DFT')\n",
    "\n",
    "# Dopasowanie równania stanu\n",
    "\n",
    "# Wstępne wartości przy założeniu b0p=1\n",
    "# Końce przedziału\n",
    "v1=min(wynik[0])\n",
    "v2=max(wynik[0])\n",
    "# Ciśnienie jest funkcją malejącą objętości\n",
    "p2=min(wynik[1])\n",
    "p1=max(wynik[1])\n",
    "\n",
    "# Oszacowanie nachylenia\n",
    "b0=(p1*v1-p2*v2)/(v2-v1)\n",
    "v0=(v1)*(p1+b0)/b0\n",
    "\n",
    "# Parametry startowe\n",
    "p0=[v0,b0,1]\n",
    "\n",
    "# Dopasowanie\n",
    "fit, succ = optimize.leastsq(errfunc, p0[:], args=(wynik[0],wynik[1]))\n",
    "\n",
    "# Zakres zmienności\n",
    "x=np.array([min(wynik[0]),max(wynik[0])])\n",
    "y=np.array([min(wynik[1]),max(wynik[1])])\n",
    "\n",
    "# Wykres P(V) (punkty + dopasowanie)\n",
    "\n",
    "# Oznaczmy pozycję P=0, A=A0\n",
    "plt.axvline(fit[0],ls='--')\n",
    "plt.axhline(0,ls='--')\n",
    "\n",
    "# Wykres rezultatów\n",
    "xa=np.linspace(x[0],x[-1],20)\n",
    "plt.plot(xa,fitfunc(fit,xa),'-', \n",
    "     label=\"\\nDopasowanie:\\n$V_0$=%6.4f $\\AA^3$,\\n$B_0$=%6.1f GPa,\\n$B'_0$=%5.3f  \" % (fit[0], fit[1], fit[2]) )\n",
    "\n",
    "plt.legend()\n",
    "plt.xlabel('V (A$^3$)')\n",
    "plt.ylabel('P (GPa)')\n",
    "\n",
    "# Zapiszmy rysunek jako plik PDF\n",
    "plt.savefig('p-vs-v.pdf')"
   ]
  },
  {
   "cell_type": "markdown",
   "metadata": {
    "collapsed": true,
    "deletable": true,
    "editable": true,
    "run_control": {
     "frozen": false,
     "read_only": false
    }
   },
   "source": [
    "### Analiza wyników\n",
    "\n",
    "Jak widzimy z powyższego wykresu parametry użyte do obliczeń doprowadziły nas do niespójnych rezultatów. Dwie metody wyznaczenia objętości równowagowej kryształu dały drastycznie różne rezultaty. Pokazuje to jasno jak duże znaczenie ma staranny dobór parametrów obliczeń dla wartości uzyskanych wyników. Nie wolno przyjmować pierwszego uzyskanego rezultatu jako poprawnego. Uzyskanie wartościowych wyników wymaga każdorazowej analizy wpływu parametrów rachunku na uzyskane wyniki.\n",
    "\n",
    "Należy wrócić do punktu \"Przygotowanie programu do obliczeń\" powyżej i przekonać się jakie wartości parametrów należy ustalić aby uzyskać spójne rezultaty."
   ]
  }
 ],
 "metadata": {
  "anaconda-cloud": {},
  "hide_input": false,
  "kernelspec": {
   "display_name": "Python [default]",
   "language": "python",
   "name": "python3"
  },
  "language_info": {
   "codemirror_mode": {
    "name": "ipython",
    "version": 3
   },
   "file_extension": ".py",
   "mimetype": "text/x-python",
   "name": "python",
   "nbconvert_exporter": "python",
   "pygments_lexer": "ipython3",
   "version": "3.5.3"
  },
  "toc": {
   "toc_cell": false,
   "toc_number_sections": false,
   "toc_threshold": 6,
   "toc_window_display": true
  },
  "widgets": {
   "state": {},
   "version": "1.1.1"
  }
 },
 "nbformat": 4,
 "nbformat_minor": 0
}
