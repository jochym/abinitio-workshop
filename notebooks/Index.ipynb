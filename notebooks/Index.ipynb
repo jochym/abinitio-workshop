{
 "cells": [
  {
   "cell_type": "markdown",
   "metadata": {
    "run_control": {
     "frozen": false,
     "read_only": false
    }
   },
   "source": [
    "# Warsztaty modelowania w nanofizyce\n",
    "\n",
    "\n",
    "**Paweł T. Jochym**\n",
    "\n",
    "Zakład komputerowych badań materiałów\n",
    "\n",
    "Instytut Fizyki Jądrowej PAN, Kraków"
   ]
  },
  {
   "cell_type": "markdown",
   "metadata": {},
   "source": [
    "## Materiały do ćwiczeń¶\n",
    "\n",
    "Poniższe zeszyty zawierają przykłady obliczeń opartych na wyliczonych trajektoriach nanocząsteki Pt-12Fe-42Pt dla różnych temperatur. Wszystkie dokumenty zawierają kompletne obliczenia a repozytorium https://github.com/jochym/abinitio-workshop (https://goo.gl/5JKOJK) wszystkie konieczne do ich przeprowadzenia dane.\n",
    "\n",
    "## Prezentacja\n",
    "\n",
    "* [Slajdy](https://nbviewer.ipython.org/format/slides/github/jochym/abinitio-workshop/blob/master/notebooks/Prezentacja.ipynb)\n",
    "* [Zeszyt źródłowy prezentacji](Prezentacja.ipynb)\n",
    "* [Zeszyt produkujący animacje](Animacje.ipynb)\n",
    "\n",
    "\n",
    "## Ćwiczenia\n",
    "\n",
    "* [Wizualizacja i obliczenia z pierwszych zasad](Wizualizacja.ipynb)\n",
    "* [Ruch atomów w różnych temperaturach](Amplitudy.ipynb)\n",
    "* [Zachowania grup atomów](Grupy.ipynb)\n",
    "\n",
    "Powyższe linki prowadzą do statycznych kopii dokumentów. Jeśli serwis binder funkcjonuje poprawnie (jest on we wczesnej fazie wdrożenia i nie zawsze jest dostępny) można te dokumenty otworzyć w aktywnej sesji zawierającej wszystkie dane i potrzebne programy:\n",
    "\n",
    "[![Binder](http://mybinder.org/badge.svg)](http://mybinder.org/repo/jochym/abinitio-workshop) "
   ]
  }
 ],
 "metadata": {
  "hide_input": false,
  "kernelspec": {
   "display_name": "Python 3",
   "language": "python",
   "name": "python3"
  },
  "language_info": {
   "codemirror_mode": {
    "name": "ipython",
    "version": 3
   },
   "file_extension": ".py",
   "mimetype": "text/x-python",
   "name": "python",
   "nbconvert_exporter": "python",
   "pygments_lexer": "ipython3",
   "version": "3.5.1"
  },
  "toc": {
   "toc_cell": false,
   "toc_number_sections": false,
   "toc_threshold": 6,
   "toc_window_display": true
  },
  "widgets": {
   "state": {},
   "version": "1.1.1"
  }
 },
 "nbformat": 4,
 "nbformat_minor": 0
}
