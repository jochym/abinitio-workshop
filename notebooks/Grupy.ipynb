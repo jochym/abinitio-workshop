{
 "cells": [
  {
   "cell_type": "markdown",
   "metadata": {
    "toc": "true"
   },
   "source": [
    "# Table of Contents\n",
    " <p><div class=\"lev1\"><a href=\"#Warsztaty-modelowania-w-nanofizyce\">Warsztaty modelowania w nanofizyce</a></div><div class=\"lev2\"><a href=\"#Zachowania-atomów-w-zależności-od-ich-rodzaju-i-położenia\">Zachowania atomów w zależności od ich rodzaju i położenia</a></div>"
   ]
  },
  {
   "cell_type": "markdown",
   "metadata": {},
   "source": [
    "# Warsztaty modelowania w nanofizyce\n",
    "----\n",
    "## Zachowania atomów w zależności od ich rodzaju i położenia\n",
    "\n",
    "**Paweł T. Jochym**\n",
    "\n",
    "Zakład Komputerowych Badań Materiałów\n",
    "\n",
    "Instytut Fizyki Jądrowej PAN, Kraków"
   ]
  },
  {
   "cell_type": "markdown",
   "metadata": {},
   "source": [
    "----\n",
    "Analiza przeprowadzona w ćwiczeniu [Amplitudy](Amplitudy.ipynb) wskazuje, że atomy w nanocząstce Pt-12Fe-42Pt zachowują się bardzo różnie w zależności od tego czy są to atomy żelaza czy platyny. Postarajmy się zbadać jak wygląda to zachowanie rysując struktury selekcjonując atomy jednego rodzaju. Zadanie selekcji wykona zmodyfikowana funkcja `recenter`."
   ]
  },
  {
   "cell_type": "code",
   "execution_count": 1,
   "metadata": {
    "collapsed": true,
    "init_cell": true
   },
   "outputs": [],
   "source": [
    "# Import potrzebnych modułów\n",
    "%matplotlib inline\n",
    "import numpy as np\n",
    "from ase import Atoms, units\n",
    "import ase.io\n",
    "from ase.io.trajectory import Trajectory\n",
    "from IPython.core.display import Image\n",
    "from ipywidgets import interact, interactive, fixed, IntRangeSlider, Dropdown, IntSlider\n",
    "from ipywidgets import HBox, VBox, Checkbox, Dropdown, IntSlider, FloatSlider\n",
    "from io import BytesIO\n",
    "import pickle\n",
    "import gzip\n",
    "import nglview \n",
    "import glob\n",
    "from time import sleep"
   ]
  },
  {
   "cell_type": "code",
   "execution_count": 2,
   "metadata": {},
   "outputs": [
    {
     "name": "stdout",
     "output_type": "stream",
     "text": [
      "[150, 300, 500, 600, 700, 800, 850, 900, 950, 1000, 1100, 1200, 1300, 1350, 1400, 1425, 1450, 1500, 1600, 1700, 2000]\n"
     ]
    }
   ],
   "source": [
    "mdtraj={}\n",
    "for fn in glob.glob('data/md_T_*.traj'):\n",
    "    # Użyj części nazwy pliku jako identyfikacji temperatury\n",
    "    T=int(fn.split('/')[-1][5:-5])\n",
    "    # Wczytaj trajektorię z pliku\n",
    "    mdtraj[T]=Trajectory(fn)\n",
    "\n",
    "# Wypisz wczytane temperatury\n",
    "print(sorted(mdtraj.keys()))"
   ]
  },
  {
   "cell_type": "code",
   "execution_count": 3,
   "metadata": {
    "collapsed": true,
    "run_control": {
     "frozen": false,
     "read_only": false
    }
   },
   "outputs": [],
   "source": [
    "def recenter(a, sel=None):\n",
    "    '''\n",
    "    Normalizacja położenia nanocząstki do stałej pozycji środka masy.\n",
    "    Parametr sel pozwala wybrać atomy konkretnego pierwiastka.\n",
    "    '''\n",
    "    # Budowa tablicy logicznej służącej do maskowania listy atomów\n",
    "    if sel is None :\n",
    "        # Wszystkie pozycje True\n",
    "        sel=(a.get_atomic_numbers()==a.get_atomic_numbers())\n",
    "    else :\n",
    "        # True w pozycjach atomów pierwiastka podanego w sel\n",
    "        sel=(np.array(a.get_chemical_symbols())==sel)\n",
    "        \n",
    "    # Kopia struktury a\n",
    "    c=Atoms(numbers=a.get_atomic_numbers()[sel],\n",
    "            positions=a.get_positions()[sel],\n",
    "            cell=a.get_cell(),\n",
    "            pbc=a.get_pbc())\n",
    "    \n",
    "    # Przemieszczenie centrum masy do środka komórki\n",
    "    # Uwaga: do działania konieczna jest istotna próżnia wokoło struktury\n",
    "    c.translate((c.get_cell()/2).sum(axis=0)-c.get_center_of_mass())\n",
    "    c.set_scaled_positions(c.get_scaled_positions())\n",
    "    c.translate((c.get_cell()/2).sum(axis=0)-c.get_center_of_mass())\n",
    "    c.set_scaled_positions(c.get_scaled_positions())\n",
    "    return c"
   ]
  },
  {
   "cell_type": "code",
   "execution_count": 141,
   "metadata": {
    "collapsed": true
   },
   "outputs": [],
   "source": [
    "def show_cryst(struct, uc=True, re_center=True):\n",
    "    view = nglview.show_ase(recenter(struct) if re_center else struct)\n",
    "    view.parameters=dict(clipDist=-100)\n",
    "    if uc : view.add_unitcell()\n",
    "    view.camera='orthographic'\n",
    "    view.add_spacefill(radiusType='covalent', scale=0.5)\n",
    "    view.center()\n",
    "    return view  "
   ]
  },
  {
   "cell_type": "code",
   "execution_count": 137,
   "metadata": {},
   "outputs": [],
   "source": [
    "class TrajDisplay:\n",
    "    def __init__(self, trajectories, re_center=False):\n",
    "        if re_center :\n",
    "            self.trajectories = {k:[recenter(a) for a in trj] \n",
    "                                     for k, trj in trajectories.items()}\n",
    "        else :\n",
    "            self.trajectories=trajectories\n",
    "        self.temperatures=sorted(self.trajectories.keys())\n",
    "        self.T=self.temperatures[0]\n",
    "        self.trj=self.trajectories[self.T]\n",
    "\n",
    "        self.v=nglview.show_asetraj(self.trj)\n",
    "        self.v._remote_call(\"setSize\", target=\"Widget\", args=[\"500px\", \"500px\"])\n",
    "        self.v.add_spacefill()\n",
    "        self.v.parameters=dict(clipDist=-100)\n",
    "        self.v.camera='orthographic'\n",
    "        self.v.update_spacefill(radiusType='covalent', scale=0.7)\n",
    "        self.v.center()\n",
    "        \n",
    "        self.tsel=Dropdown(options=self.temperatures,\n",
    "                           value=self.T, \n",
    "                           description='Temperatura:')\n",
    "        self.frm=IntSlider(value=0, min=0, max=len(self.trj)-1)\n",
    "        \n",
    "        self.asel=Dropdown(options=list(set(self.trj[0].get_chemical_symbols()+['All'])),\n",
    "                           value='All', description='Wyświetl')\n",
    "        \n",
    "        self.rad=FloatSlider(value=0.8, min=0.0, max=1.5, step=0.01, description='Rozmiar')\n",
    "\n",
    "        self.tsel.observe(self._update_trj, 'value')\n",
    "        self.frm.observe(self._update_frame)\n",
    "        self.asel.observe(self._select_atom)\n",
    "        self.rad.observe(self._update_repr)\n",
    "        self._update_trj(None)\n",
    "        \n",
    "        self.hbox = HBox([self.v, VBox([self.tsel, \n",
    "                                        self.asel, \n",
    "                                        self.rad,\n",
    "                                        self.frm])])\n",
    "\n",
    "        \n",
    "    def _update_repr(self, chg=None):\n",
    "        self.v.update_spacefill(radiusType='covalent', scale=self.rad.value)        \n",
    "        \n",
    "    def _update_trj(self, chg=None):\n",
    "        '''Zmiana trajektorii zależnie od wybranej temperatury'''\n",
    "        self.T=int(self.tsel.value)\n",
    "        self.trj=self.trajectories[self.T]\n",
    "        self.frm.max = len(self.trj)-1\n",
    "        v=self.v\n",
    "        while v._ngl_component_ids :\n",
    "            v.remove_component(v._ngl_component_ids[0])\n",
    "        v.add_trajectory(nglview.ASETrajectory(self.trj))\n",
    "        v.add_unitcell()\n",
    "        v.center()\n",
    "        self._select_atom()\n",
    "        self._update_frame()\n",
    "        return\n",
    "    \n",
    "\n",
    "    def _update_frame(self, chg=None):\n",
    "        self.v.frame=self.frm.value\n",
    "        return\n",
    "    \n",
    "    \n",
    "    def _select_atom(self, chg=None):\n",
    "        sel=self.asel.value\n",
    "        self.v.remove_spacefill()\n",
    "        if sel == 'All':\n",
    "            self.v.add_spacefill(selection='All')\n",
    "        else :\n",
    "            self.v.add_spacefill(selection=[n for n,e in enumerate(self.trj[0].get_chemical_symbols()) if e == sel])\n",
    "        self._update_repr()\n",
    "            \n"
   ]
  },
  {
   "cell_type": "code",
   "execution_count": 144,
   "metadata": {},
   "outputs": [
    {
     "data": {
      "application/vnd.jupyter.widget-view+json": {
       "model_id": "e0d23cad82484e3784e2e11ccb6f4510"
      }
     },
     "metadata": {},
     "output_type": "display_data"
    }
   ],
   "source": [
    "show_cryst(mdtraj[1400][700])"
   ]
  },
  {
   "cell_type": "code",
   "execution_count": 138,
   "metadata": {},
   "outputs": [
    {
     "data": {
      "application/vnd.jupyter.widget-view+json": {
       "model_id": "90e39c496b7f434ba1d43431d9de714c"
      }
     },
     "metadata": {},
     "output_type": "display_data"
    }
   ],
   "source": [
    "dsp=TrajDisplay(ctrj,re_center=False)\n",
    "dsp.hbox"
   ]
  },
  {
   "cell_type": "code",
   "execution_count": null,
   "metadata": {
    "collapsed": true
   },
   "outputs": [],
   "source": [
    "ctrj=dsp.trajectories"
   ]
  }
 ],
 "metadata": {
  "anaconda-cloud": {},
  "hide_input": false,
  "kernelspec": {
   "display_name": "Python [default]",
   "language": "python",
   "name": "python3"
  },
  "language_info": {
   "codemirror_mode": {
    "name": "ipython",
    "version": 3
   },
   "file_extension": ".py",
   "mimetype": "text/x-python",
   "name": "python",
   "nbconvert_exporter": "python",
   "pygments_lexer": "ipython3",
   "version": "3.5.3"
  },
  "toc": {
   "toc_cell": true,
   "toc_number_sections": false,
   "toc_threshold": 6,
   "toc_window_display": true
  },
  "toc_position": {
   "height": "148px",
   "left": "1541px",
   "right": "27px",
   "top": "125px",
   "width": "352px"
  },
  "varInspector": {
   "cols": {
    "lenName": 16,
    "lenType": 16,
    "lenVar": 40
   },
   "kernels_config": {
    "python": {
     "delete_cmd_postfix": "",
     "delete_cmd_prefix": "del ",
     "library": "var_list.py",
     "varRefreshCmd": "print(var_dic_list())"
    },
    "r": {
     "delete_cmd_postfix": ") ",
     "delete_cmd_prefix": "rm(",
     "library": "var_list.r",
     "varRefreshCmd": "cat(var_dic_list()) "
    }
   },
   "types_to_exclude": [
    "module",
    "function",
    "builtin_function_or_method",
    "instance",
    "_Feature"
   ],
   "window_display": false
  },
  "widgets": {
   "state": {
    "02134e32b1a94802b3590f11424a0dd6": {
     "views": []
    },
    "65e8634afbad454cb7b4bd3df581a2d7": {
     "views": []
    },
    "7f8214e629e74b8fadf43f19cb28ac14": {
     "views": []
    },
    "bbd8d093002543fa8040764834f2d6bd": {
     "views": []
    },
    "c6201d0873454bdbad87e159c4d6648c": {
     "views": []
    },
    "e58e74ee097c4960a2daec7500477f3b": {
     "views": []
    },
    "f9242e8bf1ab4bbd97c343fbc346ba2f": {
     "views": []
    },
    "fcf722773fcb4c41a993093af94566a5": {
     "views": [
      {
       "cell_index": 6
      }
     ]
    }
   },
   "version": "1.1.1"
  }
 },
 "nbformat": 4,
 "nbformat_minor": 1
}
