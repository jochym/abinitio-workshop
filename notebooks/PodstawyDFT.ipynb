{
 "cells": [
  {
   "cell_type": "code",
   "execution_count": 10,
   "metadata": {
    "slideshow": {
     "slide_type": "skip"
    }
   },
   "outputs": [
    {
     "data": {
      "text/html": [
       "<link rel=\"stylesheet\" type=\"text/css\" href=\"custom.css\">"
      ],
      "text/plain": [
       "<IPython.core.display.HTML object>"
      ]
     },
     "metadata": {},
     "output_type": "display_data"
    }
   ],
   "source": [
    "%%HTML\n",
    "<link rel=\"stylesheet\" type=\"text/css\" href=\"custom.css\">"
   ]
  },
  {
   "cell_type": "markdown",
   "metadata": {
    "slideshow": {
     "slide_type": "slide"
    }
   },
   "source": [
    "# Warsztaty modelowania w nanofizyce\n",
    "----\n",
    "## Podstawy obliczeń ab initio\n",
    "\n",
    "**Przemysław Piekarz**\n",
    "\n",
    "Zakład Komputerowych Badań Materiałów\n",
    "\n",
    "Instytut Fizyki Jądrowej PAN, Kraków"
   ]
  },
  {
   "cell_type": "markdown",
   "metadata": {
    "slideshow": {
     "slide_type": "slide"
    }
   },
   "source": [
    "### Metody * ab initio *\n",
    "\n",
    "Metody obliczeniowe oparte na prawach mechaniki kwantowej,\n",
    "stosowane do wyznaczania i badania podstawowych własności materiałowych takich jak:\n",
    "* parametry sieci krystalicznej\n",
    "* struktura elektronowa\n",
    "* własności magnetyczne\n",
    "* dynamika sieci\n",
    "* stałe elastyczne\n",
    "* własności optyczne"
   ]
  },
  {
   "cell_type": "markdown",
   "metadata": {
    "slideshow": {
     "slide_type": "slide"
    }
   },
   "source": [
    "### Oddziaływania w krysztale\n",
    "\n",
    "Wiązania międzyatomowe, dzięki którym powstają układy molekularne, ciała stałe i nanostruktury,\n",
    "są efektem wzajemnych oddziaływań elektrostatycznych w układzie elektronów i jader atomowych.\n",
    "Funkcja falowa elektronów i jąder atomowych $\\Psi(\\vec{r}_i,\\vec{R}_j)$ spełnia równanie Schrodingera\n",
    "\n",
    "$\n",
    "H\\Psi(\\vec{r}_i,\\vec{R}_j) = E\\Psi(\\vec{r}_i,\\vec{R}_j),\n",
    "$\n",
    "\n",
    "gdzie $H$ jest Hamiltonianem układu, a $E$ jego energią.\n",
    "\n",
    "$\n",
    "H=-\\frac{\\hbar^2}{2m}\\sum_{i}\\nabla_i^2+V_{ext}(\\vec{r})+\\frac{1}{2}\\sum_{i\\neq j}\\frac{e^2}{|\\vec{r}_i-\\vec{r}_j|}\n",
    "$\n",
    "\n",
    "Można rozwiązać ściśle tylko dla szczególnych przypadków (np. atom wodoru)."
   ]
  },
  {
   "cell_type": "markdown",
   "metadata": {
    "nbpresent": {
     "id": "f4cafe3c-aca1-40ea-b9e8-c2c6d2d680f6"
    },
    "slideshow": {
     "slide_type": "slide"
    }
   },
   "source": [
    "### Teoria funkcjonału gęstości (DFT)\n",
    "\n",
    "P. Hohenberg and W. Kohn, Phys. Rev. **136**, 864 (1964)\n",
    "\n",
    "W teorii funkcjonału gęstości podstawową wielkością jest gęstość elektronowa określona w każdym punkcie kryształu $n(r)$. \n",
    "\n",
    "Energia całkowita układu jest funkcjonałem gęstości:\n",
    "\n",
    "$E[n]=T[n]+\\int dr V_{ext}(\\vec{r}) n(r) + E_H[n] + E_{xc}[n]$\n",
    "\n",
    "Teoria DFT opiera się na dwóch twierdzeniach Hohenberga-Kohna.\n"
   ]
  },
  {
   "cell_type": "markdown",
   "metadata": {
    "slideshow": {
     "slide_type": "subslide"
    }
   },
   "source": [
    "### Twierdzenia Hohenberga-Kohna"
   ]
  },
  {
   "cell_type": "markdown",
   "metadata": {
    "slideshow": {
     "slide_type": "fragment"
    }
   },
   "source": [
    "#### Twierdzenie I\n",
    "\n",
    "Zewnętrzny potencjał układu oddziałujących elektronów $V_{ext}(\\vec{r})$ jest jednoznacznie określony przez gęstość elektronową w stanie podstawowym $n_0(\\vec{r})$."
   ]
  },
  {
   "cell_type": "markdown",
   "metadata": {
    "nbpresent": {
     "id": "ee126123-97cf-49d6-8052-b5c8aebe65c9"
    },
    "slideshow": {
     "slide_type": "fragment"
    }
   },
   "source": [
    "#### Twierdzenie II\n",
    "\n",
    "Dla ustalonego potencjału zewnętrznego $V_{ext}(\\vec{r})$, funkcjonał energii $E[n]$ osiąga\n",
    "minimalną wartość $E_0$ dla gęstości elektronowej w stanie podstawowym $n_0(\\vec{r})$.\n",
    "\n",
    "$E[n_0] = E_0 = min$"
   ]
  },
  {
   "cell_type": "markdown",
   "metadata": {
    "slideshow": {
     "slide_type": "slide"
    }
   },
   "source": [
    "### Równanie Kohna-Shama\n",
    "\n",
    "W. Kohn and L. J. Sham, Phys. Rev. **140**, 1133 (1965)\n",
    "\n",
    "$(-\\frac{\\hbar^2\\nabla_i^2}{2m}+V_{KS})\\psi_i(\\vec{r})=\\varepsilon_i\\psi_i(\\vec{r})$\n",
    "\n",
    "$V_{KS}=V_{ext}+V_H+V_{xc}=V_{ext}+\\int dr' \\frac{n(r')}{|\\vec{r}-\\vec{r}'|}+\\frac{\\delta E_{xc}}{\\delta n}$\n",
    "\n",
    "$n(\\vec{r})=\\sum_{i,\\sigma} |\\psi_i^{\\sigma}(\\vec{r})|^2$\n",
    "\n",
    "Energia wymienno-korelacyjna $E_{xc}$ nie jest znana dokładnie i wyliczana jest w przybliżeniu LDA lub GGA. "
   ]
  },
  {
   "cell_type": "markdown",
   "metadata": {
    "slideshow": {
     "slide_type": "subslide"
    }
   },
   "source": [
    "### Przybliżenie lokalnej gęstości (LDA)\n",
    "\n",
    "W przybliżeniu LDA energia wymienno-korelacyjna w każdym punkcie przestrzeni $\\vec{r}$, gdzie gestość wynosi $n(\\vec{r})$, równa jest energii wymienno-korelacyjnej jednorodnego gazu elektronowego o tej samej gęstości, $n=n(\\vec{r})$:\n",
    "\n",
    "$E_{xc}[n]=\\int dr n(\\vec{r}) \\epsilon_{xc}(n),$\n",
    "\n",
    "$\\epsilon_{xc}(n)=\\epsilon_x(n)+\\epsilon_c(n)$ \n",
    "\n",
    "Gestość energii wymiennej wyliczana jest ze wzoru: $\\epsilon_x(n)=-\\frac{3(3\\pi)^\\frac{1}{3}}{4\\pi}n^\\frac{4}{3}$\n",
    "\n",
    "Gęstość energii korelacyjnej $\\epsilon_c(n)$ wyznaczana jest metodą kwantowego Monte Carlo:\n",
    "\n",
    "D. M. Ceperley and B. J. Alder, Phys. Rev. Lett. **45**, 566 (1980)"
   ]
  },
  {
   "cell_type": "markdown",
   "metadata": {
    "slideshow": {
     "slide_type": "subslide"
    }
   },
   "source": [
    "### Przybliżenie uogólnionych gradientów (GGA)\n",
    "\n",
    "W przybliżeniu uogólnionych gradientów (*generalized gradient approximation* - GGA),\n",
    "energia wymienno-korelacyjna jest funkcjonałem gęstości elektronowej i jej gradientów:\n",
    "\n",
    "$\n",
    "E_{xc}[n^{\\uparrow},n^{\\downarrow}]=\\int dr f(n^{\\uparrow},n^{\\downarrow},\\nabla n^{\\uparrow},\\nabla n^{\\downarrow}) \n",
    "$\n",
    "\n",
    "Funkcjonał GGA-PBE\n",
    "\n",
    "J. P. Perdew, K. Burke, and M. Ernzerhof, Phys. Rev. Lett. **77**, 3865 (1996) "
   ]
  },
  {
   "cell_type": "markdown",
   "metadata": {
    "slideshow": {
     "slide_type": "slide"
    }
   },
   "source": [
    "### Pseudopotencjał\n",
    "\n",
    "Przybliżony potencjał działający na elektrony walencyjne w obszarze rdzenia atomowego nazywany pseudopotencjałem. Pseudofunkcja falowa w obszarze międzywęzłowym jest równa dokładnej funcji falowej, a w obszarze rdzenia jest wolno-zmienną funkcją bez oscylacji i miejsc zerowych.\n",
    "\n",
    "<img src=\"pseudopot.png\" style=\"height:400px;\" />\n",
    "\n",
    "M. C. Payne *et al.*, Reviews of Modern Physics **64**, 1045 (1992)"
   ]
  },
  {
   "cell_type": "markdown",
   "metadata": {
    "slideshow": {
     "slide_type": "skip"
    }
   },
   "source": [
    "### Rodzaje pseudopotencjałów\n",
    "\n",
    "* Pseudopotencjały zachowujące normę $\\int_0^r dr r^2 |\\psi(r)|^2=\\int_0^r dr r^2 |\\tilde{\\psi}(r)|^2$"
   ]
  },
  {
   "cell_type": "markdown",
   "metadata": {
    "slideshow": {
     "slide_type": "skip"
    }
   },
   "source": [
    "* Pseudopotencjały ultramiękkie (ultrasoft)"
   ]
  },
  {
   "cell_type": "markdown",
   "metadata": {
    "nbpresent": {
     "id": "cff51814-a18c-4e85-bdf0-4574c8d29422"
    },
    "slideshow": {
     "slide_type": "skip"
    }
   },
   "source": [
    "* PAW (projector augmented-wave)"
   ]
  },
  {
   "cell_type": "markdown",
   "metadata": {
    "slideshow": {
     "slide_type": "slide"
    }
   },
   "source": [
    "### Sieć krystaliczna \n",
    "\n",
    "Przykład: tytanian baru BaTiO$_3$ - sieć tetragonalna\n",
    "\n",
    "<img src=\"BaTiO3.png\" style=\"height:400px;\" />\n",
    "\n",
    "Parametry: stałe sieci $a$ i $c$, położenia atomów Ti i O"
   ]
  },
  {
   "cell_type": "markdown",
   "metadata": {
    "slideshow": {
     "slide_type": "slide"
    }
   },
   "source": [
    "### Nanostruktury\n",
    "\n",
    "Przykład: monowarstwa Fe na powierzchni BaTiO$_3(001)$\n",
    "<img src=\"nano.png\" style=\"height:500px;\" />\n",
    "\n",
    "Parametry: stała sieci $a$ i położenia atomów w każdej warstwie"
   ]
  },
  {
   "cell_type": "markdown",
   "metadata": {
    "nbpresent": {
     "id": "5e667383-cc50-4547-8be5-dc737a7994d4"
    },
    "slideshow": {
     "slide_type": "slide"
    }
   },
   "source": [
    "### Schemat iteracyjnej procedury optymalizacyjnej\n",
    "\n",
    "<img src=\"Kohn-Sham.png\" style=\"height:500px;\" />"
   ]
  },
  {
   "cell_type": "markdown",
   "metadata": {
    "slideshow": {
     "slide_type": "slide"
    }
   },
   "source": [
    "### Parametry procedury optymalizacyjnej\n",
    "\n",
    "* Maksymalna energia kinetyczna $E_{cut}=\\frac{\\hbar^2 G_{cut}^2}{2m}$ definiuje ilość funkcji bazowych (fal płaskich): \n",
    "\n",
    "    $\\psi_\\vec{k}(\\vec{r})=\\sum_\\vec{G} c_{i,\\vec{k}+\\vec{G}}e^{ir(\\vec{k}+\\vec{G})}$\n",
    "\n",
    "    $|\\vec{k}+\\vec{G}|<\\vec{G}_{cut}$"
   ]
  },
  {
   "cell_type": "markdown",
   "metadata": {
    "slideshow": {
     "slide_type": "fragment"
    }
   },
   "source": [
    "* Siatka punktów w przestrzeni odwrotnej $k_x \\times k_y \\times k_z$ (np. $4\\times4\\times4$)"
   ]
  },
  {
   "cell_type": "markdown",
   "metadata": {
    "slideshow": {
     "slide_type": "fragment"
    }
   },
   "source": [
    "* Dokładność obliczeń $\\Delta E = E_{i+1}- E_{i} < 10^{-7}$ eV"
   ]
  },
  {
   "cell_type": "markdown",
   "metadata": {
    "slideshow": {
     "slide_type": "slide"
    }
   },
   "source": [
    "### Energia całkowita\n",
    "\n",
    "<img src=\"Energy.png\" style=\"height:500px;\" />\n",
    "       \n",
    "$E_{tot}(a_0)=min$"
   ]
  },
  {
   "cell_type": "markdown",
   "metadata": {
    "slideshow": {
     "slide_type": "slide"
    }
   },
   "source": [
    "### Stan równowagi\n",
    "\n",
    "Stan podstawowy otrzymany w wyniku procedury optymalizacyjnej powinien spełniać warunki stanu równowagi badanego materiału.\n",
    "\n",
    "* Energia całkowita przyjmuje minimum: $E_{tot}$ = min"
   ]
  },
  {
   "cell_type": "markdown",
   "metadata": {
    "slideshow": {
     "slide_type": "fragment"
    }
   },
   "source": [
    "* Całkowita siła działająca na każdy atom zeruje się: $\\vec{F}_i=-\\frac{\\partial E_{tot}}{\\partial{\\vec{R}_i}}=0$"
   ]
  },
  {
   "cell_type": "markdown",
   "metadata": {
    "collapsed": true,
    "slideshow": {
     "slide_type": "fragment"
    }
   },
   "source": [
    "* Makroskopowe naprężenie w układzie równe jest naprężeniu wywołanym ciśnieniem zewnętrznym $\\sigma_{\\alpha\\beta}=-\\frac{1}{V}\\frac{\\partial E}{\\partial u_{\\alpha\\beta}}$\n"
   ]
  },
  {
   "cell_type": "code",
   "execution_count": 26,
   "metadata": {
    "nbpresent": {
     "id": "0814c355-7d55-412d-ac84-a385f25d577e"
    },
    "slideshow": {
     "slide_type": "skip"
    }
   },
   "outputs": [
    {
     "name": "stdout",
     "output_type": "stream",
     "text": [
      "[NbConvertApp] Converting notebook PodstawyDFT.ipynb to slides\n",
      "[NbConvertApp] Writing 265243 bytes to PodstawyDFT.slides.html\n"
     ]
    }
   ],
   "source": [
    "!jupyter nbconvert PodstawyDFT.ipynb --to slides"
   ]
  },
  {
   "cell_type": "code",
   "execution_count": null,
   "metadata": {
    "collapsed": true,
    "slideshow": {
     "slide_type": "skip"
    }
   },
   "outputs": [],
   "source": []
  }
 ],
 "metadata": {
  "anaconda-cloud": {},
  "celltoolbar": "Slideshow",
  "kernelspec": {
   "display_name": "Python 2",
   "language": "python",
   "name": "python2"
  },
  "language_info": {
   "codemirror_mode": {
    "name": "ipython",
    "version": 2
   },
   "file_extension": ".py",
   "mimetype": "text/x-python",
   "name": "python",
   "nbconvert_exporter": "python",
   "pygments_lexer": "ipython2",
   "version": "2.7.13"
  },
  "livereveal": {
   "height": 768,
   "minScale": 0.85,
   "width": 1024
  },
  "nbpresent": {
   "slides": {
    "0c5743a8-8af1-4e13-b3bc-ae24cdea3609": {
     "id": "0c5743a8-8af1-4e13-b3bc-ae24cdea3609",
     "prev": "9bf68f73-c428-4a59-8957-97e8cedbf1b0",
     "regions": {
      "ee6868a6-5810-4b4c-a93d-55c3cac3ae19": {
       "attrs": {
        "height": 0.8,
        "width": 0.8,
        "x": 0.1,
        "y": 0.1
       },
       "content": {
        "cell": "ee126123-97cf-49d6-8052-b5c8aebe65c9",
        "part": "whole"
       },
       "id": "ee6868a6-5810-4b4c-a93d-55c3cac3ae19"
      }
     }
    },
    "8bc09711-5d9c-4cc9-bb53-0088390033dc": {
     "id": "8bc09711-5d9c-4cc9-bb53-0088390033dc",
     "prev": "a8329a72-8f01-448e-b262-8b82d6664122",
     "regions": {
      "eddb2f56-6ce5-4a75-b9e5-dfb13589423c": {
       "attrs": {
        "height": 0.8,
        "width": 0.8,
        "x": 0.1,
        "y": 0.1
       },
       "content": {
        "cell": "0814c355-7d55-412d-ac84-a385f25d577e",
        "part": "whole"
       },
       "id": "eddb2f56-6ce5-4a75-b9e5-dfb13589423c"
      }
     }
    },
    "8cccd1ac-f6f0-4922-afc2-61798cadef79": {
     "id": "8cccd1ac-f6f0-4922-afc2-61798cadef79",
     "prev": "0c5743a8-8af1-4e13-b3bc-ae24cdea3609",
     "regions": {
      "a793e267-afe0-4606-be8a-8020cd5b3e7b": {
       "attrs": {
        "height": 0.8,
        "width": 0.8,
        "x": 0.1,
        "y": 0.1
       },
       "content": {
        "cell": "cff51814-a18c-4e85-bdf0-4574c8d29422",
        "part": "whole"
       },
       "id": "a793e267-afe0-4606-be8a-8020cd5b3e7b"
      }
     }
    },
    "9bf68f73-c428-4a59-8957-97e8cedbf1b0": {
     "id": "9bf68f73-c428-4a59-8957-97e8cedbf1b0",
     "prev": null,
     "regions": {
      "7dcdeb85-2321-4c07-8abe-92a3429725cb": {
       "attrs": {
        "height": 0.8,
        "width": 0.8,
        "x": 0.1,
        "y": 0.1
       },
       "content": {
        "cell": "f4cafe3c-aca1-40ea-b9e8-c2c6d2d680f6",
        "part": "whole"
       },
       "id": "7dcdeb85-2321-4c07-8abe-92a3429725cb"
      }
     }
    },
    "a8329a72-8f01-448e-b262-8b82d6664122": {
     "id": "a8329a72-8f01-448e-b262-8b82d6664122",
     "prev": "dea1185b-f7f5-4568-921f-4491271f97ea",
     "regions": {
      "41dbb2fe-79aa-4af0-b47a-c7876644323e": {
       "attrs": {
        "height": 0.8,
        "width": 0.8,
        "x": 0.1,
        "y": 0.1
       },
       "content": {
        "cell": "c47972e9-4105-40dc-a05f-8f9c54489388",
        "part": "whole"
       },
       "id": "41dbb2fe-79aa-4af0-b47a-c7876644323e"
      }
     }
    },
    "dea1185b-f7f5-4568-921f-4491271f97ea": {
     "id": "dea1185b-f7f5-4568-921f-4491271f97ea",
     "prev": "8cccd1ac-f6f0-4922-afc2-61798cadef79",
     "regions": {
      "be84f197-3032-40ee-b551-78415a58ea60": {
       "attrs": {
        "height": 0.8,
        "width": 0.8,
        "x": 0.1,
        "y": 0.1
       },
       "content": {
        "cell": "5e667383-cc50-4547-8be5-dc737a7994d4",
        "part": "whole"
       },
       "id": "be84f197-3032-40ee-b551-78415a58ea60"
      }
     }
    }
   },
   "themes": {}
  }
 },
 "nbformat": 4,
 "nbformat_minor": 2
}
