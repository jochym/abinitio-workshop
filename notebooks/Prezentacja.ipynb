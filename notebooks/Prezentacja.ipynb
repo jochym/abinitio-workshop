{
 "cells": [
  {
   "cell_type": "markdown",
   "metadata": {
    "slideshow": {
     "slide_type": "notes"
    },
    "toc": "true"
   },
   "source": [
    "# Table of Contents\n",
    " <p><div class=\"lev1\"><a href=\"#Warsztaty-modelowania-w-nanofizyce\">Warsztaty modelowania w nanofizyce</a></div><div class=\"lev2\"><a href=\"#Dynamika-nanocząstek\">Dynamika nanocząstek</a></div><div class=\"lev2\"><a href=\"#Wstęp\">Wstęp</a></div><div class=\"lev2\"><a href=\"#Plan\">Plan</a></div><div class=\"lev1\"><a href=\"#Środowisko-pracy\">Środowisko pracy</a></div><div class=\"lev2\"><a href=\"#Cykl-życia-publikacji-w-dziedzinie-obliczeniowych-badań-materiałowych\">Cykl życia publikacji w dziedzinie obliczeniowych badań materiałowych</a></div>"
   ]
  },
  {
   "cell_type": "markdown",
   "metadata": {
    "run_control": {
     "frozen": false,
     "read_only": false
    },
    "slideshow": {
     "slide_type": "slide"
    }
   },
   "source": [
    "#  Warsztaty modelowania w nanofizyce\n",
    "## Dynamika nanocząstek\n",
    "\n",
    "**Paweł T. Jochym**\n",
    "\n",
    "Zakład komputerowych badań materiałów\n",
    "\n",
    "Instytut Fizyki Jądrowej PAN, Kraków"
   ]
  },
  {
   "cell_type": "markdown",
   "metadata": {
    "slideshow": {
     "slide_type": "subslide"
    }
   },
   "source": [
    "## Wstęp\n",
    "\n",
    "Materiały pomocnicze do warsztatów mają formę zbioru zeszytów [Jupyter](https://jupyter.org/) dostępnych w publicznym repozytorium:\n",
    "\n",
    "[https://github.com/jochym/abinitio-workshop](https://github.com/jochym/abinitio-workshop). \n",
    "\n",
    "Zeszyty można oglądnąć i eksperymentować na nich otwierając je w serwisie binder. Jedynym wymaganiem jest posiadanie działającej, współczesnej przeglądarki WWW (np. firefox,chrome,safari). Wystarczy kliknąć poniższą ikonę (http://mybinder.org/repo/jochym/abinitio-workshop).\n",
    "\n",
    "[![Binder](http://mybinder.org/badge.svg)](http://mybinder.org/repo/jochym/abinitio-workshop)\n",
    "\n",
    "*Wszystkie przykłady oraz konieczne dane a także pełny tekst prezentacji znajduje się w repozytorium.*"
   ]
  },
  {
   "cell_type": "markdown",
   "metadata": {
    "slideshow": {
     "slide_type": "subslide"
    }
   },
   "source": [
    "## Plan\n",
    "\n",
    "* Środowisko\n",
    "* Schemat obliczeń\n",
    "* Wyliczenie struktury nanocząstki\n",
    "* Dynamika molekularna nanocząstki\n",
    "* Termodynamika nanocząstki"
   ]
  },
  {
   "cell_type": "markdown",
   "metadata": {
    "slideshow": {
     "slide_type": "slide"
    }
   },
   "source": [
    "## Środowisko pracy\n",
    "\n",
    "Istnieje wiele sposobów organizacji pracy przy obliczeniowych badaniach materiałów. Kilka z nich można zobaczyć w pozostałych wykładach. Moja prezentacja posługuje się systemem Jupyter, które pozwalają na mieszanie dokumentacji/notatek z kodem służącym do do analizy danych a wreszcie na przygotowanie materiału do prezentacji (jak np. slajdy które państwo widzą czy tekst artykułu).\n",
    "\n",
    "Środowisko pracy składa się z następujących elementów:"
   ]
  },
  {
   "cell_type": "markdown",
   "metadata": {
    "slideshow": {
     "slide_type": "fragment"
    }
   },
   "source": [
    " * System kolejkowy (wykonujacy zadania)"
   ]
  },
  {
   "cell_type": "markdown",
   "metadata": {
    "slideshow": {
     "slide_type": "fragment"
    }
   },
   "source": [
    " * Serwer zarządzający (pozwalający zlecać zadania)"
   ]
  },
  {
   "cell_type": "markdown",
   "metadata": {
    "collapsed": true,
    "run_control": {
     "frozen": false,
     "read_only": false
    },
    "slideshow": {
     "slide_type": "fragment"
    }
   },
   "source": [
    " * Serwer Jupyter (z nim łączymy się przeglądarką)"
   ]
  },
  {
   "cell_type": "markdown",
   "metadata": {
    "slideshow": {
     "slide_type": "fragment"
    }
   },
   "source": [
    " * Terminal/klient (np. laptop z przeglądarką WWW)"
   ]
  },
  {
   "cell_type": "markdown",
   "metadata": {
    "slideshow": {
     "slide_type": "fragment"
    }
   },
   "source": [
    "**Uwaga:** *Tylko ostatnie dwa elementy dostępne są w paczce z serwisu binder - zawiera ona jedynie wyniki już przeprowadzonych obliczeń*"
   ]
  },
  {
   "cell_type": "markdown",
   "metadata": {
    "slideshow": {
     "slide_type": "slide"
    }
   },
   "source": [
    "## Cykl życia publikacji w dziedzinie obliczeniowych badań materiałowych\n",
    "\n",
    "<img style=\"display: block; position: relative; float: right; margin:5%;\" width=\"40%\" src=\"life-cycle_opt.svg\" />\n",
    "\n",
    " * Nie ma wielkiej różnicy między badaniami eksperymentalnymi a teoretycznymi\n",
    " * Programy obliczeń z pierwszych zasad pełnią rolę aparatury eksperymentalnej\n",
    " * Cykl obliczeń, wizualizacji, interpretacji i modyfikacji obliczeń powtarza się wielokrotnie\n",
    " * Ważna jest dokumentacja etapów pracy\n",
    " * Dobrze gdy ostateczna publikacja budowana jest jednocześnie z produkcją wyników"
   ]
  },
  {
   "cell_type": "markdown",
   "metadata": {},
   "source": []
  },
  {
   "cell_type": "markdown",
   "metadata": {},
   "source": []
  },
  {
   "cell_type": "markdown",
   "metadata": {},
   "source": []
  },
  {
   "cell_type": "markdown",
   "metadata": {},
   "source": []
  },
  {
   "cell_type": "markdown",
   "metadata": {},
   "source": []
  }
 ],
 "metadata": {
  "celltoolbar": "Slideshow",
  "hide_input": false,
  "kernelspec": {
   "display_name": "Python 2",
   "language": "python",
   "name": "python2"
  },
  "language_info": {
   "codemirror_mode": {
    "name": "ipython",
    "version": 2
   },
   "file_extension": ".py",
   "mimetype": "text/x-python",
   "name": "python",
   "nbconvert_exporter": "python",
   "pygments_lexer": "ipython2",
   "version": "2.7.11"
  },
  "toc": {
   "toc_cell": true,
   "toc_number_sections": false,
   "toc_threshold": 6,
   "toc_window_display": true
  },
  "widgets": {
   "state": {},
   "version": "1.1.1"
  }
 },
 "nbformat": 4,
 "nbformat_minor": 0
}
