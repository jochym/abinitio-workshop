{
 "cells": [
  {
   "cell_type": "markdown",
   "metadata": {
    "deletable": true,
    "editable": true,
    "toc": "true"
   },
   "source": [
    "# Table of Contents\n",
    " <p><div class=\"lev1\"><a href=\"#Warsztaty-modelowania-w-nanofizyce\">Warsztaty modelowania w nanofizyce</a></div><div class=\"lev2\"><a href=\"#Zachowania-atomów-w-zależności-od-ich-rodzaju-i-położenia\">Zachowania atomów w zależności od ich rodzaju i położenia</a></div>"
   ]
  },
  {
   "cell_type": "markdown",
   "metadata": {
    "deletable": true,
    "editable": true
   },
   "source": [
    "# Warsztaty modelowania w nanofizyce\n",
    "----\n",
    "## Zachowania atomów w zależności od ich rodzaju i położenia\n",
    "\n",
    "**Paweł T. Jochym**\n",
    "\n",
    "Zakład Komputerowych Badań Materiałów\n",
    "\n",
    "Instytut Fizyki Jądrowej PAN, Kraków"
   ]
  },
  {
   "cell_type": "markdown",
   "metadata": {
    "deletable": true,
    "editable": true
   },
   "source": [
    "----\n",
    "Analiza przeprowadzona w ćwiczeniu [Amplitudy](Amplitudy.ipynb) wskazuje, że atomy w nanocząstce Pt-12Fe-42Pt zachowują się bardzo różnie w zależności od tego czy są to atomy żelaza czy platyny. Postarajmy się zbadać jak wygląda to zachowanie rysując struktury selekcjonując atomy jednego rodzaju. Zadanie selekcji wykona zmodyfikowana funkcja `recenter`."
   ]
  },
  {
   "cell_type": "code",
   "execution_count": 1,
   "metadata": {
    "collapsed": true,
    "deletable": true,
    "editable": true,
    "run_control": {
     "frozen": false,
     "read_only": false
    }
   },
   "outputs": [],
   "source": [
    "# Import potrzebnych modułów\n",
    "%matplotlib inline\n",
    "import numpy as np\n",
    "from ase import Atoms, units\n",
    "import ase.io\n",
    "from IPython.core.display import Image\n",
    "from ipywidgets import interact, interactive, fixed, IntRangeSlider, Dropdown, IntSlider\n",
    "from io import BytesIO\n",
    "import pickle\n",
    "import gzip"
   ]
  },
  {
   "cell_type": "code",
   "execution_count": 2,
   "metadata": {
    "collapsed": false,
    "deletable": true,
    "editable": true,
    "run_control": {
     "frozen": false,
     "marked": false,
     "read_only": false
    }
   },
   "outputs": [
    {
     "name": "stdout",
     "output_type": "stream",
     "text": [
      "[150, 300, 500, 600, 700, 800, 850, 900, 950, 1000, 1100, 1200, 1300, 1350, 1400, 1425, 1450, 1500, 1600, 1700, 2000]\n"
     ]
    }
   ],
   "source": [
    "# Wczytanie danych wyliczonych przez program VASP przygotowanych wczesniej\n",
    "md={}\n",
    "for k,tr in pickle.load(gzip.open('data/md_PtFePt.p.gz','rb')).items():\n",
    "    T=int(k.split('/')[-1][1:])\n",
    "    md[T]=tr\n",
    "    \n",
    "print(sorted(md.keys()))"
   ]
  },
  {
   "cell_type": "code",
   "execution_count": 3,
   "metadata": {
    "collapsed": true,
    "deletable": true,
    "editable": true,
    "run_control": {
     "frozen": false,
     "read_only": false
    }
   },
   "outputs": [],
   "source": [
    "def recenter(a, sel=None):\n",
    "    '''\n",
    "    Normalizacja położenia nanocząstki do stałej pozycji środka masy.\n",
    "    Parametr sel pozwala wybrać atomy konkretnego pierwiastka.\n",
    "    '''\n",
    "    # Budowa tablicy logicznej służącej do maskowania listy atomów\n",
    "    if sel is None :\n",
    "        # Wszystkie pozycje True\n",
    "        sel=(a.get_atomic_numbers()==a.get_atomic_numbers())\n",
    "    else :\n",
    "        # True w pozycjach atomów pierwiastka podanego w sel\n",
    "        sel=(np.array(a.get_chemical_symbols())==sel)\n",
    "        \n",
    "    # Kopia struktury a\n",
    "    c=Atoms(numbers=a.get_atomic_numbers()[sel],\n",
    "            positions=a.get_positions()[sel],\n",
    "            cell=a.get_cell(),\n",
    "            pbc=a.get_pbc())\n",
    "    \n",
    "    # Przemieszczenie centrum masy do środka komórki\n",
    "    # Uwaga: do działania konieczna jest istotna próżnia wokoło struktury\n",
    "    c.translate((c.get_cell()/2).sum(axis=0)-c.get_center_of_mass())\n",
    "    c.set_scaled_positions(c.get_scaled_positions())\n",
    "    c.translate((c.get_cell()/2).sum(axis=0)-c.get_center_of_mass())\n",
    "    c.set_scaled_positions(c.get_scaled_positions())\n",
    "    return c"
   ]
  },
  {
   "cell_type": "code",
   "execution_count": 9,
   "metadata": {
    "collapsed": false,
    "deletable": true,
    "editable": true,
    "run_control": {
     "frozen": false,
     "read_only": false
    }
   },
   "outputs": [
    {
     "data": {
      "application/vnd.jupyter.widget-view+json": {
       "model_id": "e467a1591fbe4c1993aa1893823e2ca4"
      }
     },
     "metadata": {},
     "output_type": "display_data"
    }
   ],
   "source": [
    "# Elementy sterujące pozwalające wybrać pozycję w sekwencji i temperaturę\n",
    "n_widget = IntSlider(value=100, min=0, max=1)\n",
    "T_widget = Dropdown(options=[str(k) for k in sorted(md.keys())],\n",
    "                    value=str(sorted(md.keys())[0]))\n",
    "\n",
    "# Zmiana zakresu sekwencji zależnie od wybranej temperatury\n",
    "def update_n_range(*args):\n",
    "    n_widget.max = len(md[int(T_widget.value)][1])-1\n",
    "    \n",
    "T_widget.observe(update_n_range, 'value')\n",
    "update_n_range()\n",
    "\n",
    "# Funkcja wyświetlająca strukturę\n",
    "def show_cryst(x,y,atom,T,n):\n",
    "    '''\n",
    "    Wyświetl strukturę z pozycji n w sekwencji dla temperatury T  \n",
    "    po obrocie o kąty x, y. Wyświetlane są atomy pierwiastka atom\n",
    "    lub wszystkie gdy atom='All'\n",
    "    '''\n",
    "    if atom == 'All':\n",
    "        atom=None\n",
    "    \n",
    "    # Zapisz obraz do bufora\n",
    "    ase.io.write('tmp.png', recenter(md[int(T)][1][n],atom), show_unit_cell=2, format='png',\n",
    "                 rotation='%.0fy,%.0fx' % (y,x), scale=30) \n",
    "    \n",
    "    return Image(data='tmp.png',format='png')\n",
    "\n",
    "# Interaktywne wyświetlenie struktury\n",
    "interact(show_cryst, x=fixed(15), y=fixed(115), atom=['All','Fe','Pt'],\n",
    "         T=T_widget, n=n_widget);"
   ]
  },
  {
   "cell_type": "code",
   "execution_count": null,
   "metadata": {
    "collapsed": true,
    "deletable": true,
    "editable": true,
    "run_control": {
     "frozen": false,
     "read_only": false
    }
   },
   "outputs": [],
   "source": []
  }
 ],
 "metadata": {
  "anaconda-cloud": {},
  "hide_input": false,
  "kernelspec": {
   "display_name": "Python [default]",
   "language": "python",
   "name": "python3"
  },
  "language_info": {
   "codemirror_mode": {
    "name": "ipython",
    "version": 3
   },
   "file_extension": ".py",
   "mimetype": "text/x-python",
   "name": "python",
   "nbconvert_exporter": "python",
   "pygments_lexer": "ipython3",
   "version": "3.5.3"
  },
  "toc": {
   "toc_cell": true,
   "toc_number_sections": false,
   "toc_threshold": 6,
   "toc_window_display": true
  },
  "toc_position": {
   "height": "148px",
   "left": "1541px",
   "right": "27px",
   "top": "125px",
   "width": "352px"
  },
  "widgets": {
   "state": {
    "02134e32b1a94802b3590f11424a0dd6": {
     "views": []
    },
    "65e8634afbad454cb7b4bd3df581a2d7": {
     "views": []
    },
    "7f8214e629e74b8fadf43f19cb28ac14": {
     "views": []
    },
    "bbd8d093002543fa8040764834f2d6bd": {
     "views": []
    },
    "c6201d0873454bdbad87e159c4d6648c": {
     "views": []
    },
    "e58e74ee097c4960a2daec7500477f3b": {
     "views": []
    },
    "f9242e8bf1ab4bbd97c343fbc346ba2f": {
     "views": []
    },
    "fcf722773fcb4c41a993093af94566a5": {
     "views": [
      {
       "cell_index": 6
      }
     ]
    }
   },
   "version": "1.1.1"
  }
 },
 "nbformat": 4,
 "nbformat_minor": 0
}
