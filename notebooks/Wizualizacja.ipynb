{
 "cells": [
  {
   "cell_type": "markdown",
   "metadata": {
    "run_control": {
     "frozen": false,
     "read_only": false
    }
   },
   "source": [
    "# Warsztaty modelowania w nanofizyce\n",
    "----\n",
    "## Wizualizacja struktur atomowych\n",
    "\n",
    "**Paweł T. Jochym**\n",
    "\n",
    "Zakład komputerowych badań materiałów\n",
    "\n",
    "Instytut Fizyki Jądrowej PAN, Kraków"
   ]
  },
  {
   "cell_type": "markdown",
   "metadata": {},
   "source": [
    "---\n",
    "Wszelkiego rodzaju wizualizacje sa niezwykle ważnym elaementem pracy badawczej. \n",
    "* Pozwalają na efektywną kontrolę poprawności obliczeń\n",
    "* Ułatwiaja dostrzeżenie pojawiających się trendów/zjawisk\n",
    "* Pozwalają na wydobycie trudnych do zauważenia zależności w wynikach\n",
    "* Ułatwiają i czynią przystępnym przekaz zawarty w ostatecznej publikacji\n",
    "\n",
    "Niestety także:\n",
    "* Są czaso- i praco-chłonne \n",
    "* Wymagają umiejętnego wykonania aby zachować estetykę, czytelność\n",
    "* Bywają mylące - niepostrzeżenie wzmacniając efekty o małej wadze \n",
    "\n",
    "Poniższe ćwiczenia prezentują proste techniki tworzenia struktur atomowych (klastrów, kryształów, powierzchni) oraz wizualizacji uzyskanych układów. Istnieją liczne narzędzia służące do tego celu. Wiele z nich pozwala tworzyć wyrafinowane i piękne wizualizacje. Tutaj przedstawione są jedynie techniki możliwe do zastosowania w środowisku Jupyter na obecnym etapie jego rozwoju.\n",
    "\n",
    "### Tworzenie struktury\n",
    "\n",
    "Zdefiniowanie struktury wymaga podania jej składu atomowego oraz pozycji jej składników. W przypadku struktur krystalicznych powinniśmy także określić ich symeterię oraz rozmiar i rodzaj ich komórki elementarnej.\n",
    "\n",
    "Zacznijmy od jednej z najprostszych struktur krystalicznych. Zbudujmy komórkę krystaliczną diamentu."
   ]
  },
  {
   "cell_type": "markdown",
   "metadata": {},
   "source": []
  }
 ],
 "metadata": {
  "hide_input": false,
  "kernelspec": {
   "display_name": "Python 3",
   "language": "python",
   "name": "python3"
  },
  "language_info": {
   "codemirror_mode": {
    "name": "ipython",
    "version": 3
   },
   "file_extension": ".py",
   "mimetype": "text/x-python",
   "name": "python",
   "nbconvert_exporter": "python",
   "pygments_lexer": "ipython3",
   "version": "3.5.1"
  },
  "toc": {
   "toc_cell": false,
   "toc_number_sections": false,
   "toc_threshold": 6,
   "toc_window_display": true
  },
  "widgets": {
   "state": {},
   "version": "1.1.1"
  }
 },
 "nbformat": 4,
 "nbformat_minor": 0
}
