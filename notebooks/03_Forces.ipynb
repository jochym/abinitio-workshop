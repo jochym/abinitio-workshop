{
 "cells": [
  {
   "cell_type": "markdown",
   "metadata": {
    "slideshow": {
     "slide_type": "slide"
    }
   },
   "source": [
    "# Warsztaty modelowania w nanofizyce\n",
    "----\n",
    "## Siły występujące na atomach\n",
    "\n",
    "**Paweł T. Jochym**\n",
    "\n",
    "Zakład Komputerowych Badań Materiałów\n",
    "\n",
    "Instytut Fizyki Jądrowej PAN, Kraków"
   ]
  },
  {
   "cell_type": "markdown",
   "metadata": {
    "slideshow": {
     "slide_type": "fragment"
    }
   },
   "source": [
    "Poniższy przykład demonstruje jak można przedstawić zmiany sił występujących na atomach w toku symulacji. Do wyświetlenia obrazu nanocząstki uzyto biblioteki VPython."
   ]
  },
  {
   "cell_type": "code",
   "execution_count": 1,
   "metadata": {
    "collapsed": true,
    "slideshow": {
     "slide_type": "skip"
    }
   },
   "outputs": [],
   "source": [
    "import ase.io\n",
    "from ase.data import covalent_radii\n",
    "from ase.data.colors import cpk_colors\n",
    "from ipywidgets import IntSlider, FloatSlider, interactive, HBox, fixed\n",
    "import numpy as np"
   ]
  },
  {
   "cell_type": "code",
   "execution_count": 2,
   "metadata": {
    "collapsed": true,
    "slideshow": {
     "slide_type": "skip"
    }
   },
   "outputs": [],
   "source": [
    "def broom():\n",
    "    '''\n",
    "    Czyszczenie zawartosci sceny.\n",
    "    '''\n",
    "    for o in scene.objects: \n",
    "        o.visible=False\n",
    "\n",
    "class crystal:\n",
    "    '''\n",
    "    Reprezentacja i wyswietlenie listy struktur krystalicznych.\n",
    "    '''\n",
    "    def __init__( self, trj, fscale=1, rscale=1 ):\n",
    "        self.trj=trj\n",
    "        self.fscale=10**fscale\n",
    "        self.rscale=rscale\n",
    "        self.n = 0\n",
    "        scene.fov=0.1\n",
    "        scene.center=vec(*tuple(trj[0].get_center_of_mass()))\n",
    "        self.atoms=[sphere(pos=vec(*tuple(r)), \n",
    "                           radius=self.rscale*covalent_radii[Z], \n",
    "                           color=vec(*tuple(cpk_colors[Z]))) \n",
    "                    for Z, r in zip(self.trj[0].get_atomic_numbers(),self.trj[0].get_positions())]\n",
    "        \n",
    "        self.forces=[arrow(pos=vec(*tuple(r)), axis=vec(*tuple(f))) \n",
    "                     for r, f in zip(trj[0].get_positions(), self.fscale*trj[0].get_forces())]\n",
    "    \n",
    "    \n",
    "    def update_frame( self, n=None, fscale=None, rscale=None ):\n",
    "        if n is not None :\n",
    "            self.n=n\n",
    "        if fscale is not None:\n",
    "            self.fscale=10**fscale\n",
    "        if rscale is not None:\n",
    "            self.rscale=rscale\n",
    "        for a, fv, r, f, Z in zip(self.atoms, self.forces,\n",
    "                                  self.trj[self.n].get_positions(), \n",
    "                                  self.fscale*self.trj[self.n].get_forces(),\n",
    "                                  self.trj[self.n].get_atomic_numbers()):\n",
    "            a.pos=vec(*tuple(r))\n",
    "            a.radius=self.rscale*covalent_radii[Z]\n",
    "            fv.pos=vec(*tuple(r))\n",
    "            fv.axis=vec(*tuple(f))\n",
    "          \n",
    "        \n",
    "    def show(self, maxr=5, maxf=2):\n",
    "        w1=interactive(self.update_frame, \n",
    "                       n=IntSlider(min=0,max=len(self.trj)-1,step=1,value=0), \n",
    "                       fscale=fixed(None), \n",
    "                       rscale=fixed(None))\n",
    "        w2=interactive(self.update_frame, \n",
    "                       n=fixed(None), \n",
    "                       fscale=FloatSlider(min=0,max=maxf,value=0.0), \n",
    "                       rscale=fixed(None));\n",
    "        w3=interactive(self.update_frame, n=fixed(None), \n",
    "                       fscale=fixed(None), \n",
    "                       rscale=FloatSlider(min=0.1,max=maxr,value=1.0));\n",
    "        return HBox([w1, w2, w3])"
   ]
  },
  {
   "cell_type": "code",
   "execution_count": 3,
   "metadata": {
    "slideshow": {
     "slide_type": "slide"
    }
   },
   "outputs": [
    {
     "data": {
      "application/javascript": [
       "require.undef(\"nbextensions/vpython_libraries/glow.min\");"
      ],
      "text/plain": [
       "<IPython.core.display.Javascript object>"
      ]
     },
     "metadata": {},
     "output_type": "display_data"
    },
    {
     "data": {
      "application/javascript": [
       "require.undef(\"nbextensions/vpython_libraries/glowcomm\");"
      ],
      "text/plain": [
       "<IPython.core.display.Javascript object>"
      ]
     },
     "metadata": {},
     "output_type": "display_data"
    },
    {
     "data": {
      "application/javascript": [
       "require.undef(\"nbextensions/vpython_libraries/jquery-ui.custom.min\");"
      ],
      "text/plain": [
       "<IPython.core.display.Javascript object>"
      ]
     },
     "metadata": {},
     "output_type": "display_data"
    },
    {
     "data": {
      "application/javascript": [
       "require([\"nbextensions/vpython_libraries/glow.min\"], function(){console.log(\"GLOW LOADED\");})"
      ],
      "text/plain": [
       "<IPython.core.display.Javascript object>"
      ]
     },
     "metadata": {},
     "output_type": "display_data"
    },
    {
     "data": {
      "application/javascript": [
       "require([\"nbextensions/vpython_libraries/glowcomm\"], function(){console.log(\"GLOWCOMM LOADED\");})"
      ],
      "text/plain": [
       "<IPython.core.display.Javascript object>"
      ]
     },
     "metadata": {},
     "output_type": "display_data"
    },
    {
     "data": {
      "application/javascript": [
       "require([\"nbextensions/vpython_libraries/jquery-ui.custom.min\"], function(){console.log(\"JQUERY LOADED\");})"
      ],
      "text/plain": [
       "<IPython.core.display.Javascript object>"
      ]
     },
     "metadata": {},
     "output_type": "display_data"
    },
    {
     "data": {
      "text/html": [
       "<div id=\"glowscript\" class=\"glowscript\"></div>"
      ],
      "text/plain": [
       "<IPython.core.display.HTML object>"
      ]
     },
     "metadata": {},
     "output_type": "display_data"
    },
    {
     "data": {
      "application/javascript": [
       "window.__context = { glowscript_container: $(\"#glowscript\").removeAttr(\"id\")}"
      ],
      "text/plain": [
       "<IPython.core.display.Javascript object>"
      ]
     },
     "metadata": {},
     "output_type": "display_data"
    }
   ],
   "source": [
    "from vpython import scene, vec, sphere, arrow"
   ]
  },
  {
   "cell_type": "code",
   "execution_count": 4,
   "metadata": {
    "hide_input": false,
    "slideshow": {
     "slide_type": "fragment"
    }
   },
   "outputs": [
    {
     "data": {
      "application/vnd.jupyter.widget-view+json": {
       "model_id": "ee6242c253da49d4b6bced487320e6cd"
      }
     },
     "metadata": {},
     "output_type": "display_data"
    }
   ],
   "source": [
    "broom()\n",
    "trj=ase.io.Trajectory('data/md_T_500.traj')\n",
    "c=crystal(trj)\n",
    "c.show()"
   ]
  },
  {
   "cell_type": "code",
   "execution_count": null,
   "metadata": {
    "collapsed": true,
    "hide_input": true
   },
   "outputs": [],
   "source": []
  }
 ],
 "metadata": {
  "_draft": {
   "nbviewer_url": "https://gist.github.com/652079c833525d4089c7810aae8633ac"
  },
  "anaconda-cloud": {
   "environment": null,
   "summary": "Przyklad vpytona "
  },
  "gist": {
   "data": {
    "description": "Projects/abinitio-workshop/notebooks/Forces.ipynb",
    "public": true
   },
   "id": "652079c833525d4089c7810aae8633ac"
  },
  "hide_input": false,
  "kernelspec": {
   "display_name": "VPython",
   "language": "python",
   "name": "vpython"
  },
  "language_info": {
   "codemirror_mode": {
    "name": "ipython",
    "version": 3
   },
   "file_extension": ".py",
   "mimetype": "text/x-python",
   "name": "python",
   "nbconvert_exporter": "python",
   "pygments_lexer": "ipython3",
   "version": "3.5.3"
  },
  "varInspector": {
   "cols": {
    "lenName": 16,
    "lenType": 16,
    "lenVar": 40
   },
   "kernels_config": {
    "python": {
     "delete_cmd_postfix": "",
     "delete_cmd_prefix": "del ",
     "library": "var_list.py",
     "varRefreshCmd": "print(var_dic_list())"
    },
    "r": {
     "delete_cmd_postfix": ") ",
     "delete_cmd_prefix": "rm(",
     "library": "var_list.r",
     "varRefreshCmd": "cat(var_dic_list()) "
    }
   },
   "types_to_exclude": [
    "module",
    "function",
    "builtin_function_or_method",
    "instance",
    "_Feature"
   ],
   "window_display": false
  }
 },
 "nbformat": 4,
 "nbformat_minor": 2
}
