{
 "cells": [
  {
   "cell_type": "code",
   "execution_count": 23,
   "metadata": {
    "slideshow": {
     "slide_type": "skip"
    }
   },
   "outputs": [
    {
     "data": {
      "text/html": [
       "<link rel=\"stylesheet\" type=\"text/css\" href=\"custom.css\">"
      ],
      "text/plain": [
       "<IPython.core.display.HTML object>"
      ]
     },
     "metadata": {},
     "output_type": "display_data"
    }
   ],
   "source": [
    "%%HTML\n",
    "<link rel=\"stylesheet\" type=\"text/css\" href=\"custom.css\">"
   ]
  },
  {
   "cell_type": "markdown",
   "metadata": {
    "slideshow": {
     "slide_type": "slide"
    }
   },
   "source": [
    "#  Warsztaty modelowania w nanofizyce\n",
    "\n",
    "<video style=\"margin:10px;\" height=340 preload=\"metadata\" type=\"video/webm\"  autoplay loop \n",
    "    src=\"http://wolf.ifj.edu.pl/~jochym/p/notebooks/anim_T2000.webm\" >\n",
    "</video>\n",
    "\n",
    "**Paweł T. Jochym**\n",
    "\n",
    "Zakład Komputerowych Badań Materiałów\n",
    "\n",
    "Instytut Fizyki Jądrowej PAN, Kraków"
   ]
  },
  {
   "cell_type": "markdown",
   "metadata": {
    "slideshow": {
     "slide_type": "subslide"
    }
   },
   "source": [
    "Prezentację można śledzić równolegle pod adresem: https://goo.gl/Nj8tah\n",
    "\n",
    "Materiały pomocnicze do warsztatów mają formę zbioru zeszytów [Jupyter](https://jupyter.org/) dostępnych w publicznym repozytorium: https://goo.gl/5JKOJK\n",
    "\n",
    "Kompletne środowisko do ćwiczeń wraz prezentacją i danymi znajduje się w serwisie binder (https://goo.gl/RsOgwu).\n",
    "\n",
    "[![Binder](http://mybinder.org/badge.svg)](http://beta.mybinder.org/repo/jochym/abinitio-workshop) "
   ]
  },
  {
   "cell_type": "markdown",
   "metadata": {
    "slideshow": {
     "slide_type": "subslide"
    }
   },
   "source": [
    "## Plan\n",
    "\n",
    "* Środowisko\n",
    "* Schemat pracy\n",
    "* Wyliczenie struktury nanocząstki\n",
    "* Dynamika molekularna nanocząstki\n",
    "* Termodynamika nanocząstki"
   ]
  },
  {
   "cell_type": "markdown",
   "metadata": {
    "slideshow": {
     "slide_type": "slide"
    }
   },
   "source": [
    "## Środowisko pracy\n",
    "\n",
    "Istnieje wiele sposobów organizacji pracy przy obliczeniowych badaniach materiałów. Kilka z nich można zobaczyć w pozostałych wykładach. Moja prezentacja posługuje się systemem Jupyter, który pozwala na mieszanie dokumentacji/notatek z kodem służącym do analizy danych, a także na przygotowanie materiału do prezentacji (jak np. slajdy które państwo widzą czy tekst artykułu).\n",
    "\n",
    "Środowisko pracy składa się z następujących elementów:"
   ]
  },
  {
   "cell_type": "markdown",
   "metadata": {
    "slideshow": {
     "slide_type": "fragment"
    }
   },
   "source": [
    " * System kolejkowy (wykonujacy zadania)\n",
    "\n",
    " * Serwer zarządzający (pozwalający zlecać zadania)\n",
    "\n",
    " * Serwer Jupyter (z nim łączymy się przeglądarką)\n",
    "\n",
    " * Terminal/klient (np. laptop z przeglądarką WWW)"
   ]
  },
  {
   "cell_type": "markdown",
   "metadata": {
    "slideshow": {
     "slide_type": "fragment"
    }
   },
   "source": [
    "**Uwaga:** *Tylko ostatnie dwa elementy dostępne są w paczce z serwisu binder - zawiera ona jedynie wyniki już przeprowadzonych obliczeń*"
   ]
  },
  {
   "cell_type": "markdown",
   "metadata": {
    "slideshow": {
     "slide_type": "slide"
    }
   },
   "source": [
    "## Cykl życia publikacji w dziedzinie fizyki obliczeniowej\n",
    "<img src=\"life-cycle_opt.svg\" style=\"height:400px;\" />"
   ]
  },
  {
   "cell_type": "markdown",
   "metadata": {
    "slideshow": {
     "slide_type": "subslide"
    }
   },
   "source": [
    " * Nie ma wielkiej różnicy między badaniami eksperymentalnymi a teoretycznymi\n",
    " * Programy obliczeń z pierwszych zasad pełnią rolę aparatury eksperymentalnej\n",
    " * Cykl obliczeń, wizualizacji, interpretacji i modyfikacji obliczeń powtarza się wielokrotnie"
   ]
  },
  {
   "cell_type": "markdown",
   "metadata": {
    "slideshow": {
     "slide_type": "fragment"
    }
   },
   "source": [
    " * Ważna jest dokumentacja etapów pracy\n",
    " * Dobrze gdy ostateczna publikacja budowana jest jednocześnie z produkcją wyników"
   ]
  },
  {
   "cell_type": "markdown",
   "metadata": {
    "slideshow": {
     "slide_type": "subslide"
    }
   },
   "source": [
    "## Podsumowanie\n",
    "\n",
    "* Obliczenia z pierwszych zasad rzadko dostarczają bezpośrednio mierzalnych wielkości fizycznych.\n",
    "* Analiza i dalsze przetwarzanie danych uzyskanych metodami obliczeniowej mechaniki kwantowej są tak samo ważne jak same obliczenia z pierwszych zasad.\n",
    "* Wygodne środowisko i bogata biblioteka funkcji może znacząco usprawnić proces analizy uzyskanych wyników."
   ]
  },
  {
   "cell_type": "markdown",
   "metadata": {
    "slideshow": {
     "slide_type": "fragment"
    }
   },
   "source": [
    "* Należy pamiętać że komputery pracują w systemie:\n",
    "\n",
    "    **Ś-Ś** **(Śmieci na wejściu - Śmieci na wyjściu)** \n",
    "\n",
    "\n",
    "* Chwila zastanowienia jest niejednokrotnie więcej warta niż miesiące obliczeń\n",
    "\n",
    "*Wszystkie obliczenia prowadzące do pokazanych wyników, oraz wszystkie konieczne dane są dostępne w plikach źródłowych oraz materiałach ćwiczeniowych. Wszystkie materiały można znaleźć pod adresem: https://goo.gl/5JKOJK *"
   ]
  },
  {
   "cell_type": "markdown",
   "metadata": {
    "collapsed": true,
    "slideshow": {
     "slide_type": "slide"
    }
   },
   "source": [
    "## Dziękuję za uwagę!\n",
    "---\n",
    "### *Zapraszam na ćwiczenia praktyczne!*"
   ]
  }
 ],
 "metadata": {
  "anaconda-cloud": {},
  "celltoolbar": "Slideshow",
  "hide_input": false,
  "kernelspec": {
   "display_name": "Python [default]",
   "language": "python",
   "name": "python3"
  },
  "language_info": {
   "codemirror_mode": {
    "name": "ipython",
    "version": 3
   },
   "file_extension": ".py",
   "mimetype": "text/x-python",
   "name": "python",
   "nbconvert_exporter": "python",
   "pygments_lexer": "ipython3",
   "version": "3.5.3"
  },
  "livereveal": {
   "height": 768,
   "minScale": 0.85,
   "theme": "custom",
   "width": 1024
  },
  "toc": {
   "toc_cell": false,
   "toc_number_sections": false,
   "toc_section_display": "block",
   "toc_threshold": 6,
   "toc_window_display": true
  },
  "toc_position": {
   "height": "372px",
   "left": "1533px",
   "right": "20px",
   "top": "121px",
   "width": "366px"
  },
  "varInspector": {
   "cols": {
    "lenName": 16,
    "lenType": 16,
    "lenVar": 40
   },
   "kernels_config": {
    "python": {
     "delete_cmd_postfix": "",
     "delete_cmd_prefix": "del ",
     "library": "var_list.py",
     "varRefreshCmd": "print(var_dic_list())"
    },
    "r": {
     "delete_cmd_postfix": ") ",
     "delete_cmd_prefix": "rm(",
     "library": "var_list.r",
     "varRefreshCmd": "cat(var_dic_list()) "
    }
   },
   "types_to_exclude": [
    "module",
    "function",
    "builtin_function_or_method",
    "instance",
    "_Feature"
   ],
   "window_display": false
  },
  "widgets": {
   "state": {},
   "version": "1.1.1"
  }
 },
 "nbformat": 4,
 "nbformat_minor": 1
}
