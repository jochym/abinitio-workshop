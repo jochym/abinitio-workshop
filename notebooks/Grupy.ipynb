{
 "cells": [
  {
   "cell_type": "markdown",
   "metadata": {},
   "source": [
    "# Warsztaty modelowania w nanofizyce\n",
    "----\n",
    "## Zachowania atomów w zależności od ich rodzaju i położenia\n",
    "\n",
    "**Paweł T. Jochym**\n",
    "\n",
    "Zakład Komputerowych Badań Materiałów\n",
    "\n",
    "Instytut Fizyki Jądrowej PAN, Kraków"
   ]
  },
  {
   "cell_type": "markdown",
   "metadata": {},
   "source": [
    "----\n",
    "Analiza przeprowadzona w ćwiczeniu [Amplitudy](Amplitudy.ipynb) wskazuje, że atomy w nanocząstce Pt-12Fe-42Pt zachowują się bardzo różnie w zależności od tego czy są to atomy żelaza czy platyny. Postarajmy się zbadać jak wygląda to zachowanie rysując struktury selekcjonując atomy jednego rodzaju. Zadanie selekcji wykona funkcja wyświetlania struktury.\n",
    "\n",
    "Poniższy zeszyt demonstruje proste i bardziej złożone operacje jakie można zrealizować przy pomocy odpowiedniej wizualizacji. Kod zawarty poniżej można wykorzystać jako przykład do dalszej modyfikacji pozwalający przedstawić potrzebne cechy badanego układu."
   ]
  },
  {
   "cell_type": "code",
   "execution_count": 1,
   "metadata": {
    "collapsed": true,
    "init_cell": true
   },
   "outputs": [],
   "source": [
    "# Import potrzebnych modułów\n",
    "%matplotlib inline\n",
    "import numpy as np\n",
    "from ase import Atoms, units\n",
    "import ase.io\n",
    "from ase.io.trajectory import Trajectory\n",
    "from ipywidgets import HBox, VBox, Checkbox, Dropdown, IntSlider, FloatSlider\n",
    "from io import BytesIO\n",
    "import nglview \n",
    "import glob"
   ]
  },
  {
   "cell_type": "code",
   "execution_count": 3,
   "metadata": {
    "collapsed": true,
    "run_control": {
     "frozen": false,
     "read_only": false
    }
   },
   "outputs": [],
   "source": [
    "def recenter(a):\n",
    "    '''\n",
    "    Normalizacja położenia nanocząstki do stałej pozycji środka masy.\n",
    "    Przemieszczenie centrum masy do środka komórki.\n",
    "    Uwaga: do działania konieczna jest istotna próżnia wokoło struktury.\n",
    "    '''\n",
    "    # Kopia struktury a\n",
    "    c=Atoms(numbers=a.get_atomic_numbers(),\n",
    "            positions=a.get_positions(),\n",
    "            cell=a.get_cell(),\n",
    "            pbc=a.get_pbc())\n",
    "    \n",
    "    c.translate((c.get_cell()/2).sum(axis=0)-c.get_center_of_mass())\n",
    "    c.set_scaled_positions(c.get_scaled_positions())\n",
    "    c.translate((c.get_cell()/2).sum(axis=0)-c.get_center_of_mass())\n",
    "    c.set_scaled_positions(c.get_scaled_positions())\n",
    "    return c"
   ]
  },
  {
   "cell_type": "markdown",
   "metadata": {},
   "source": [
    "---\n",
    "Wczytanie wyliczonych trajektorii z dysku z jednoczesnym wycentrowaniem nanocząstek w komórce elementarnej."
   ]
  },
  {
   "cell_type": "code",
   "execution_count": 4,
   "metadata": {},
   "outputs": [
    {
     "name": "stdout",
     "output_type": "stream",
     "text": [
      "Czytanie trajektorii: 1425 1400 1600 1200 150 1100 300 1700 900 1000 2000 500 950 800 850 600 1350 1450 700 1300 1500 \n"
     ]
    }
   ],
   "source": [
    "mdtraj={}\n",
    "print('Czytanie trajektorii:', end=' ')\n",
    "\n",
    "for fn in glob.glob('data/md_T_*.traj'):\n",
    "    # Użyj części nazwy pliku jako identyfikacji temperatury\n",
    "    T=int(fn.split('/')[-1][5:-5])\n",
    "    # Wczytaj trajektorię z pliku\n",
    "    print(T, end=' ')\n",
    "    mdtraj[T]=[recenter(a) for a in Trajectory(fn)]\n",
    "\n",
    "print()"
   ]
  },
  {
   "cell_type": "markdown",
   "metadata": {},
   "source": [
    "---\n",
    "Funkcje wizualizujące. Proste wyświetlanie struktury oraz bardziej złożony wizualizator trajektorii z możliwością wyboru rodzaju pokazywanych atomów oraz wyświetlanego kroku symulacji."
   ]
  },
  {
   "cell_type": "code",
   "execution_count": 5,
   "metadata": {
    "collapsed": true
   },
   "outputs": [],
   "source": [
    "def show_cryst(struct, uc=True, re_center=False):\n",
    "    '''\n",
    "    Proste wyświetlenie struktury krystalicznej. \n",
    "    Opcjonalnie wraz z komórką elementarną i re-centrowaniem nanocząstki.\n",
    "    '''\n",
    "    view = nglview.show_ase(recenter(struct) if re_center else struct)\n",
    "    view.parameters=dict(clipDist=-100)\n",
    "    if uc : view.add_unitcell()\n",
    "    view.camera='orthographic'\n",
    "    view.add_spacefill(radiusType='covalent', scale=0.5)\n",
    "    view.center()\n",
    "    return view  "
   ]
  },
  {
   "cell_type": "code",
   "execution_count": 6,
   "metadata": {
    "collapsed": true
   },
   "outputs": [],
   "source": [
    "class TrajDisplay:\n",
    "    '''\n",
    "    Wyświetlacz trajektorii z możliwością selekcji atomów \n",
    "    w.g. pierwiastka oraz trajektorii z całego zbioru przekazanego\n",
    "    jako słownik. Opcjonalnie całość trajektorii może zostać wycentrowana\n",
    "    w komórce periodycznej.\n",
    "    '''\n",
    "    def __init__(self, trajectories, re_center=False):\n",
    "        if re_center :\n",
    "            print('Re-centering...')\n",
    "            self.trajectories = {k:[recenter(a) for a in trj] \n",
    "                                     for k, trj in trajectories.items()}\n",
    "        else :\n",
    "            self.trajectories=trajectories\n",
    "        self.temperatures=sorted(self.trajectories.keys())\n",
    "        self.T=self.temperatures[0]\n",
    "        self.trj=self.trajectories[self.T]\n",
    "\n",
    "        self.v=nglview.show_asetraj(self.trj)\n",
    "        self.v._remote_call(\"setSize\", target=\"Widget\", args=[\"500px\", \"500px\"])\n",
    "        self.v.add_spacefill()\n",
    "        self.v.parameters=dict(clipDist=-100)\n",
    "        self.v.camera='orthographic'\n",
    "        self.v.update_spacefill(radiusType='covalent', scale=0.7)\n",
    "        self.v.center()\n",
    "        \n",
    "        self.tsel=Dropdown(options=self.temperatures,\n",
    "                           value=self.T, \n",
    "                           description='Temperatura:')\n",
    "        self.frm=IntSlider(value=0, min=0, max=len(self.trj)-1)\n",
    "        \n",
    "        self.asel=Dropdown(options=list(set(self.trj[0].get_chemical_symbols()+['All'])),\n",
    "                           value='All', description='Wyświetl')\n",
    "        \n",
    "        self.rad=FloatSlider(value=0.8, min=0.0, max=1.5, step=0.01, description='Rozmiar')\n",
    "\n",
    "        self.tsel.observe(self._update_trj, 'value')\n",
    "        self.frm.observe(self._update_frame)\n",
    "        self.asel.observe(self._select_atom)\n",
    "        self.rad.observe(self._update_repr)\n",
    "        self._update_trj(None)\n",
    "        \n",
    "        self.hbox = HBox([self.v, VBox([self.tsel, \n",
    "                                        self.asel, \n",
    "                                        self.rad,\n",
    "                                        self.frm])])\n",
    "\n",
    "        \n",
    "    def _update_repr(self, chg=None):\n",
    "        self.v.update_spacefill(radiusType='covalent', scale=self.rad.value)        \n",
    "        \n",
    "    def _update_trj(self, chg=None):\n",
    "        '''Zmiana trajektorii zależnie od wybranej temperatury'''\n",
    "        self.T=int(self.tsel.value)\n",
    "        self.trj=self.trajectories[self.T]\n",
    "        self.frm.max = len(self.trj)-1\n",
    "        v=self.v\n",
    "        while v._ngl_component_ids :\n",
    "            v.remove_component(v._ngl_component_ids[0])\n",
    "        v.add_trajectory(nglview.ASETrajectory(self.trj))\n",
    "        v.add_unitcell()\n",
    "        v.center()\n",
    "        self._select_atom()\n",
    "        self._update_frame()\n",
    "        return\n",
    "    \n",
    "\n",
    "    def _update_frame(self, chg=None):\n",
    "        self.v.frame=self.frm.value\n",
    "        return\n",
    "    \n",
    "    \n",
    "    def _select_atom(self, chg=None):\n",
    "        sel=self.asel.value\n",
    "        self.v.remove_spacefill()\n",
    "        if sel == 'All':\n",
    "            self.v.add_spacefill(selection='All')\n",
    "        else :\n",
    "            self.v.add_spacefill(selection=[n for n,e in enumerate(self.trj[0].get_chemical_symbols()) if e == sel])\n",
    "        self._update_repr()\n",
    "            \n"
   ]
  },
  {
   "cell_type": "markdown",
   "metadata": {},
   "source": [
    "---\n",
    "Wyświetlenie struktur przy użyciu zdefiniowanych powyżej narzędzi."
   ]
  },
  {
   "cell_type": "code",
   "execution_count": 10,
   "metadata": {},
   "outputs": [
    {
     "data": {
      "application/vnd.jupyter.widget-view+json": {
       "model_id": "5c5a52ed987745d7b836cd55c7e4f1cc"
      }
     },
     "metadata": {},
     "output_type": "display_data"
    }
   ],
   "source": [
    "show_cryst(mdtraj[1400][700])"
   ]
  },
  {
   "cell_type": "code",
   "execution_count": 11,
   "metadata": {},
   "outputs": [
    {
     "data": {
      "application/vnd.jupyter.widget-view+json": {
       "model_id": "21a132541a4f4ca887a7e49d68b6bb10"
      }
     },
     "metadata": {},
     "output_type": "display_data"
    }
   ],
   "source": [
    "dsp=TrajDisplay(mdtraj)\n",
    "dsp.hbox"
   ]
  },
  {
   "cell_type": "code",
   "execution_count": null,
   "metadata": {
    "collapsed": true
   },
   "outputs": [],
   "source": []
  }
 ],
 "metadata": {
  "anaconda-cloud": {},
  "hide_input": false,
  "kernelspec": {
   "display_name": "Python [default]",
   "language": "python",
   "name": "python3"
  },
  "language_info": {
   "codemirror_mode": {
    "name": "ipython",
    "version": 3
   },
   "file_extension": ".py",
   "mimetype": "text/x-python",
   "name": "python",
   "nbconvert_exporter": "python",
   "pygments_lexer": "ipython3",
   "version": "3.5.3"
  },
  "toc": {
   "toc_cell": true,
   "toc_number_sections": false,
   "toc_threshold": 6,
   "toc_window_display": true
  },
  "toc_position": {
   "height": "148px",
   "left": "1541px",
   "right": "27px",
   "top": "125px",
   "width": "352px"
  },
  "varInspector": {
   "cols": {
    "lenName": 16,
    "lenType": 16,
    "lenVar": 40
   },
   "kernels_config": {
    "python": {
     "delete_cmd_postfix": "",
     "delete_cmd_prefix": "del ",
     "library": "var_list.py",
     "varRefreshCmd": "print(var_dic_list())"
    },
    "r": {
     "delete_cmd_postfix": ") ",
     "delete_cmd_prefix": "rm(",
     "library": "var_list.r",
     "varRefreshCmd": "cat(var_dic_list()) "
    }
   },
   "types_to_exclude": [
    "module",
    "function",
    "builtin_function_or_method",
    "instance",
    "_Feature"
   ],
   "window_display": false
  },
  "widgets": {
   "state": {
    "02134e32b1a94802b3590f11424a0dd6": {
     "views": []
    },
    "65e8634afbad454cb7b4bd3df581a2d7": {
     "views": []
    },
    "7f8214e629e74b8fadf43f19cb28ac14": {
     "views": []
    },
    "bbd8d093002543fa8040764834f2d6bd": {
     "views": []
    },
    "c6201d0873454bdbad87e159c4d6648c": {
     "views": []
    },
    "e58e74ee097c4960a2daec7500477f3b": {
     "views": []
    },
    "f9242e8bf1ab4bbd97c343fbc346ba2f": {
     "views": []
    },
    "fcf722773fcb4c41a993093af94566a5": {
     "views": [
      {
       "cell_index": 6
      }
     ]
    }
   },
   "version": "1.1.1"
  }
 },
 "nbformat": 4,
 "nbformat_minor": 1
}
