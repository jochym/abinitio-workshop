{
 "cells": [
  {
   "cell_type": "markdown",
   "metadata": {},
   "source": [
    "# Warsztaty modelowania w nanofizyce¶\n",
    "\n",
    "**Paweł T. Jochym**\n",
    "\n",
    "Zakład Komputerowych Badań Materiałów\n",
    "\n",
    "Instytut Fizyki Jądrowej PAN, Kraków"
   ]
  },
  {
   "cell_type": "markdown",
   "metadata": {},
   "source": [
    "## Wstęp\n",
    "\n",
    "Poniższe materiały mają formę zbioru zeszytów [Jupyter](https://jupyter.org/) dostępnych w publicznym repozytorium:\n",
    "[https://github.com/jochym/abinitio-workshop](https://github.com/jochym/abinitio-workshop). \n",
    "\n",
    "Prezentacja dostępna jest w serwisie [nbviewer](https://nbviewer.ipython.org/) w postaci [slajdów](https://nbviewer.ipython.org/format/slides/github/jochym/abinitio-workshop/blob/master/notebooks/Prezentacja.ipynb)  lub jako [plik źródłowy](https://nbviewer.ipython.org/github/jochym/abinitio-workshop/blob/master/notebooks/Prezentacja.ipynb). \n",
    "\n",
    "Materiały ćwiczeniowe i obliczenia pomocnicze zawarte są w kartotece [notebooks](notebooks/) w postaci osobnych dokumentów. \n",
    "\n",
    "*Wszystkie przykłady oraz konieczne dane a także pełny tekst prezentacji znajduje się w repozytorium.*\n"
   ]
  },
  {
   "cell_type": "markdown",
   "metadata": {
    "run_control": {
     "frozen": false,
     "read_only": false
    }
   },
   "source": [
    "## Prezentacje\n",
    "\n",
    "* [Podstawy DFT](https://nbviewer.ipython.org/format/slides/github/jochym/abinitio-workshop/blob/master/notebooks/PodstawyDFT.ipynb)\n",
    "* [Warsztaty](https://nbviewer.ipython.org/format/slides/github/jochym/abinitio-workshop/blob/master/notebooks/Prezentacja.ipynb)\n",
    "* [Zeszyt źródłowy prezentacji 1](notebooks/PodstawyDFT.ipynb)\n",
    "* [Zeszyt źródłowy prezentacji 2](notebooks/Prezentacja.ipynb)\n",
    "* [Zeszyt produkujący animacje](notebooks/Animacje.ipynb)\n",
    "\n",
    "\n",
    "## Ćwiczenia\n",
    "\n",
    "* [Wizualizacja struktur atomowych](notebooks/Wizualizacja.ipynb)\n",
    "* [Obliczenia z pierwszych zasad](notebooks/Obliczenia.ipynb)\n",
    "* [Ruch atomów w różnych temperaturach](notebooks/Amplitudy.ipynb)\n",
    "* [Zachowania grup atomów](notebooks/Grupy.ipynb)\n",
    "* [Dynamika nanocząstek](notebooks/Dynamika.ipynb)\n",
    "\n",
    "## Materiały do ćwiczeń\n",
    "\n",
    "Poniższe zeszyty zawierają przykłady obliczeń opartych na wyliczonych trajektoriach nanocząsteki Pt-12Fe-42Pt dla różnych temperatur. Wszystkie dokumenty zawierają kompletne obliczenia a repozytorium https://github.com/jochym/abinitio-workshop (https://goo.gl/5JKOJK) wszystkie konieczne do ich przeprowadzenia dane.\n",
    "\n",
    "\n",
    "Powyższe linki prowadzą do statycznych kopii dokumentów. Jeśli serwis binder funkcjonuje poprawnie (jest on we wczesnej fazie wdrożenia i nie zawsze jest dostępny) można te dokumenty otworzyć w aktywnej sesji zawierającej wszystkie dane i potrzebne programy:\n",
    "\n",
    "[![Binder](http://mybinder.org/badge.svg)](http://beta.mybinder.org/?url=https://github.com/jochym/abinitio-workshop&submit=true) "
   ]
  },
  {
   "cell_type": "markdown",
   "metadata": {},
   "source": [
    "## Aktualizacja zawartości\n",
    "\n",
    "Aby zaktualizować zawartość repozytorium wystarczy wykonać poniższą komórkę (czyli kliknąć w jej zawartość i nacisnąć Shift+Enter). "
   ]
  },
  {
   "cell_type": "code",
   "execution_count": null,
   "metadata": {
    "collapsed": true,
    "run_control": {
     "frozen": false,
     "read_only": false
    }
   },
   "outputs": [],
   "source": [
    "%%bash\n",
    "git reset --hard HEAD\n",
    "git pull"
   ]
  }
 ],
 "metadata": {
  "anaconda-cloud": {},
  "hide_input": false,
  "kernelspec": {
   "display_name": "Python [default]",
   "language": "python",
   "name": "python3"
  },
  "language_info": {
   "codemirror_mode": {
    "name": "ipython",
    "version": 3
   },
   "file_extension": ".py",
   "mimetype": "text/x-python",
   "name": "python",
   "nbconvert_exporter": "python",
   "pygments_lexer": "ipython3",
   "version": "3.5.3"
  },
  "toc": {
   "toc_cell": false,
   "toc_number_sections": false,
   "toc_threshold": 6,
   "toc_window_display": true
  },
  "varInspector": {
   "cols": {
    "lenName": 16,
    "lenType": 16,
    "lenVar": 40
   },
   "kernels_config": {
    "python": {
     "delete_cmd_postfix": "",
     "delete_cmd_prefix": "del ",
     "library": "var_list.py",
     "varRefreshCmd": "print(var_dic_list())"
    },
    "r": {
     "delete_cmd_postfix": ") ",
     "delete_cmd_prefix": "rm(",
     "library": "var_list.r",
     "varRefreshCmd": "cat(var_dic_list()) "
    }
   },
   "types_to_exclude": [
    "module",
    "function",
    "builtin_function_or_method",
    "instance",
    "_Feature"
   ],
   "window_display": false
  },
  "widgets": {
   "state": {},
   "version": "1.1.1"
  }
 },
 "nbformat": 4,
 "nbformat_minor": 1
}
